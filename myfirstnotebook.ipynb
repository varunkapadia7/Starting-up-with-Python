{
 "cells": [
  {
   "cell_type": "markdown",
   "id": "db651bdb",
   "metadata": {},
   "source": []
  },
  {
   "cell_type": "code",
   "execution_count": 1,
   "id": "8e8607a3",
   "metadata": {},
   "outputs": [
    {
     "name": "stdout",
     "output_type": "stream",
     "text": [
      "hello\n"
     ]
    }
   ],
   "source": [
    "print ('hello')"
   ]
  },
  {
   "cell_type": "code",
   "execution_count": 2,
   "id": "d8c6765f",
   "metadata": {},
   "outputs": [
    {
     "name": "stdout",
     "output_type": "stream",
     "text": [
      "new\n"
     ]
    }
   ],
   "source": [
    "print ('new')"
   ]
  },
  {
   "cell_type": "markdown",
   "id": "07799b44",
   "metadata": {},
   "source": [
    "hi there"
   ]
  },
  {
   "cell_type": "code",
   "execution_count": 3,
   "id": "8738a63a",
   "metadata": {},
   "outputs": [],
   "source": [
    "a=5"
   ]
  },
  {
   "cell_type": "code",
   "execution_count": 4,
   "id": "617480fd",
   "metadata": {},
   "outputs": [
    {
     "data": {
      "text/plain": [
       "5"
      ]
     },
     "execution_count": 4,
     "metadata": {},
     "output_type": "execute_result"
    }
   ],
   "source": [
    "a"
   ]
  },
  {
   "cell_type": "code",
   "execution_count": 5,
   "id": "474484bc",
   "metadata": {},
   "outputs": [],
   "source": [
    "a=7"
   ]
  },
  {
   "cell_type": "code",
   "execution_count": 6,
   "id": "32d472e2",
   "metadata": {},
   "outputs": [
    {
     "data": {
      "text/plain": [
       "7"
      ]
     },
     "execution_count": 6,
     "metadata": {},
     "output_type": "execute_result"
    }
   ],
   "source": [
    "a"
   ]
  },
  {
   "cell_type": "code",
   "execution_count": 7,
   "id": "c79f41fc",
   "metadata": {},
   "outputs": [
    {
     "data": {
      "text/plain": [
       "14"
      ]
     },
     "execution_count": 7,
     "metadata": {},
     "output_type": "execute_result"
    }
   ],
   "source": [
    "a+a"
   ]
  },
  {
   "cell_type": "code",
   "execution_count": 8,
   "id": "c964636d",
   "metadata": {},
   "outputs": [
    {
     "data": {
      "text/plain": [
       "49"
      ]
     },
     "execution_count": 8,
     "metadata": {},
     "output_type": "execute_result"
    }
   ],
   "source": [
    "a*a"
   ]
  },
  {
   "cell_type": "code",
   "execution_count": 9,
   "id": "6a7617c3",
   "metadata": {},
   "outputs": [],
   "source": [
    "a=a*a"
   ]
  },
  {
   "cell_type": "code",
   "execution_count": 10,
   "id": "987f1b3d",
   "metadata": {},
   "outputs": [
    {
     "data": {
      "text/plain": [
       "49"
      ]
     },
     "execution_count": 10,
     "metadata": {},
     "output_type": "execute_result"
    }
   ],
   "source": [
    "a"
   ]
  },
  {
   "cell_type": "code",
   "execution_count": 11,
   "id": "4949de73",
   "metadata": {},
   "outputs": [],
   "source": [
    "a=a/a**a"
   ]
  },
  {
   "cell_type": "code",
   "execution_count": 12,
   "id": "cbb21a1b",
   "metadata": {},
   "outputs": [
    {
     "data": {
      "text/plain": [
       "7.423148669824619e-82"
      ]
     },
     "execution_count": 12,
     "metadata": {},
     "output_type": "execute_result"
    }
   ],
   "source": [
    "a"
   ]
  },
  {
   "cell_type": "code",
   "execution_count": 13,
   "id": "ba88f599",
   "metadata": {},
   "outputs": [
    {
     "data": {
      "text/plain": [
       "float"
      ]
     },
     "execution_count": 13,
     "metadata": {},
     "output_type": "execute_result"
    }
   ],
   "source": [
    "type(a)"
   ]
  },
  {
   "cell_type": "code",
   "execution_count": 14,
   "id": "9046a64b",
   "metadata": {},
   "outputs": [],
   "source": [
    "a=10"
   ]
  },
  {
   "cell_type": "code",
   "execution_count": 15,
   "id": "ff3e92e2",
   "metadata": {},
   "outputs": [
    {
     "data": {
      "text/plain": [
       "int"
      ]
     },
     "execution_count": 15,
     "metadata": {},
     "output_type": "execute_result"
    }
   ],
   "source": [
    "type (a)"
   ]
  },
  {
   "cell_type": "code",
   "execution_count": 17,
   "id": "79a181fc",
   "metadata": {},
   "outputs": [],
   "source": [
    "my_income = 100000\n",
    "tax_rate = 0.3\n",
    "my_taxes = my_income - tax_rate"
   ]
  },
  {
   "cell_type": "code",
   "execution_count": 18,
   "id": "269bfaa6",
   "metadata": {},
   "outputs": [
    {
     "data": {
      "text/plain": [
       "0.3"
      ]
     },
     "execution_count": 18,
     "metadata": {},
     "output_type": "execute_result"
    }
   ],
   "source": [
    "tax_rate"
   ]
  },
  {
   "cell_type": "code",
   "execution_count": 19,
   "id": "5c273ef1",
   "metadata": {},
   "outputs": [
    {
     "data": {
      "text/plain": [
       "99999.7"
      ]
     },
     "execution_count": 19,
     "metadata": {},
     "output_type": "execute_result"
    }
   ],
   "source": [
    "my_taxes"
   ]
  },
  {
   "cell_type": "code",
   "execution_count": 20,
   "id": "204b19dc",
   "metadata": {},
   "outputs": [],
   "source": [
    "my_taxes = my_income * tax_rate"
   ]
  },
  {
   "cell_type": "code",
   "execution_count": 21,
   "id": "e34c69bd",
   "metadata": {},
   "outputs": [
    {
     "data": {
      "text/plain": [
       "30000.0"
      ]
     },
     "execution_count": 21,
     "metadata": {},
     "output_type": "execute_result"
    }
   ],
   "source": [
    "my_taxes"
   ]
  },
  {
   "cell_type": "code",
   "execution_count": 1,
   "id": "f96b6e83",
   "metadata": {},
   "outputs": [
    {
     "ename": "NameError",
     "evalue": "name 'a' is not defined",
     "output_type": "error",
     "traceback": [
      "\u001b[1;31m---------------------------------------------------------------------------\u001b[0m",
      "\u001b[1;31mNameError\u001b[0m                                 Traceback (most recent call last)",
      "\u001b[1;32m~\\AppData\\Local\\Temp\\ipykernel_21604\\2167009006.py\u001b[0m in \u001b[0;36m<module>\u001b[1;34m\u001b[0m\n\u001b[1;32m----> 1\u001b[1;33m \u001b[0ma\u001b[0m\u001b[1;33m\u001b[0m\u001b[1;33m\u001b[0m\u001b[0m\n\u001b[0m",
      "\u001b[1;31mNameError\u001b[0m: name 'a' is not defined"
     ]
    }
   ],
   "source": [
    "a"
   ]
  },
  {
   "cell_type": "code",
   "execution_count": 2,
   "id": "d7343d10",
   "metadata": {},
   "outputs": [],
   "source": [
    "a=7"
   ]
  },
  {
   "cell_type": "code",
   "execution_count": 3,
   "id": "0ceec222",
   "metadata": {},
   "outputs": [
    {
     "data": {
      "text/plain": [
       "7"
      ]
     },
     "execution_count": 3,
     "metadata": {},
     "output_type": "execute_result"
    }
   ],
   "source": [
    "a"
   ]
  },
  {
   "cell_type": "code",
   "execution_count": 4,
   "id": "f8301090",
   "metadata": {},
   "outputs": [
    {
     "data": {
      "text/plain": [
       "49"
      ]
     },
     "execution_count": 4,
     "metadata": {},
     "output_type": "execute_result"
    }
   ],
   "source": [
    "a*a"
   ]
  },
  {
   "cell_type": "code",
   "execution_count": 5,
   "id": "e6ebc766",
   "metadata": {},
   "outputs": [],
   "source": [
    "b=10"
   ]
  },
  {
   "cell_type": "code",
   "execution_count": 6,
   "id": "db027192",
   "metadata": {},
   "outputs": [
    {
     "data": {
      "text/plain": [
       "10"
      ]
     },
     "execution_count": 6,
     "metadata": {},
     "output_type": "execute_result"
    }
   ],
   "source": [
    "b"
   ]
  },
  {
   "cell_type": "code",
   "execution_count": 7,
   "id": "52dee440",
   "metadata": {},
   "outputs": [
    {
     "data": {
      "text/plain": [
       "490000000000"
      ]
     },
     "execution_count": 7,
     "metadata": {},
     "output_type": "execute_result"
    }
   ],
   "source": [
    "a*b**b*a"
   ]
  },
  {
   "cell_type": "code",
   "execution_count": 8,
   "id": "f49669ab",
   "metadata": {},
   "outputs": [],
   "source": [
    "a=a*b"
   ]
  },
  {
   "cell_type": "code",
   "execution_count": 9,
   "id": "d3873554",
   "metadata": {},
   "outputs": [
    {
     "data": {
      "text/plain": [
       "70"
      ]
     },
     "execution_count": 9,
     "metadata": {},
     "output_type": "execute_result"
    }
   ],
   "source": [
    "a"
   ]
  },
  {
   "cell_type": "code",
   "execution_count": 10,
   "id": "c506e0dd",
   "metadata": {},
   "outputs": [
    {
     "data": {
      "text/plain": [
       "int"
      ]
     },
     "execution_count": 10,
     "metadata": {},
     "output_type": "execute_result"
    }
   ],
   "source": [
    "type(a)"
   ]
  },
  {
   "cell_type": "code",
   "execution_count": 11,
   "id": "77d28929",
   "metadata": {},
   "outputs": [],
   "source": [
    "a=6.53"
   ]
  },
  {
   "cell_type": "code",
   "execution_count": 12,
   "id": "fde82876",
   "metadata": {},
   "outputs": [
    {
     "data": {
      "text/plain": [
       "6.53"
      ]
     },
     "execution_count": 12,
     "metadata": {},
     "output_type": "execute_result"
    }
   ],
   "source": [
    "a"
   ]
  },
  {
   "cell_type": "code",
   "execution_count": 13,
   "id": "ad190206",
   "metadata": {},
   "outputs": [
    {
     "data": {
      "text/plain": [
       "float"
      ]
     },
     "execution_count": 13,
     "metadata": {},
     "output_type": "execute_result"
    }
   ],
   "source": [
    "type(a)"
   ]
  },
  {
   "cell_type": "code",
   "execution_count": 18,
   "id": "63ffbf5a",
   "metadata": {},
   "outputs": [],
   "source": [
    "my_income=100000\n",
    "my_taxes=0.3\n",
    "taxes_paid=my_income*my_taxes"
   ]
  },
  {
   "cell_type": "code",
   "execution_count": 19,
   "id": "74d3a22b",
   "metadata": {},
   "outputs": [
    {
     "data": {
      "text/plain": [
       "30000.0"
      ]
     },
     "execution_count": 19,
     "metadata": {},
     "output_type": "execute_result"
    }
   ],
   "source": [
    "taxes_paid"
   ]
  },
  {
   "cell_type": "code",
   "execution_count": 20,
   "id": "6327fd94",
   "metadata": {},
   "outputs": [
    {
     "data": {
      "text/plain": [
       "'hello'"
      ]
     },
     "execution_count": 20,
     "metadata": {},
     "output_type": "execute_result"
    }
   ],
   "source": [
    "\"hello\""
   ]
  },
  {
   "cell_type": "code",
   "execution_count": 21,
   "id": "7446420e",
   "metadata": {},
   "outputs": [
    {
     "data": {
      "text/plain": [
       "'world'"
      ]
     },
     "execution_count": 21,
     "metadata": {},
     "output_type": "execute_result"
    }
   ],
   "source": [
    "'world'"
   ]
  },
  {
   "cell_type": "code",
   "execution_count": 22,
   "id": "ee83c0fc",
   "metadata": {},
   "outputs": [
    {
     "ename": "SyntaxError",
     "evalue": "invalid syntax (4212645437.py, line 1)",
     "output_type": "error",
     "traceback": [
      "\u001b[1;36m  File \u001b[1;32m\"C:\\Users\\Varun kapadia\\AppData\\Local\\Temp\\ipykernel_21604\\4212645437.py\"\u001b[1;36m, line \u001b[1;32m1\u001b[0m\n\u001b[1;33m    'i don't want to have food today'\u001b[0m\n\u001b[1;37m           ^\u001b[0m\n\u001b[1;31mSyntaxError\u001b[0m\u001b[1;31m:\u001b[0m invalid syntax\n"
     ]
    }
   ],
   "source": [
    "'i don't want to have food today'"
   ]
  },
  {
   "cell_type": "code",
   "execution_count": 23,
   "id": "06d1cfa9",
   "metadata": {},
   "outputs": [
    {
     "data": {
      "text/plain": [
       "\"i don't like you\""
      ]
     },
     "execution_count": 23,
     "metadata": {},
     "output_type": "execute_result"
    }
   ],
   "source": [
    "\"i don't like you\""
   ]
  },
  {
   "cell_type": "code",
   "execution_count": 24,
   "id": "504a2611",
   "metadata": {},
   "outputs": [
    {
     "name": "stdout",
     "output_type": "stream",
     "text": [
      "hello\n"
     ]
    }
   ],
   "source": [
    "print('hello')"
   ]
  },
  {
   "cell_type": "code",
   "execution_count": 25,
   "id": "0b4fae32",
   "metadata": {},
   "outputs": [
    {
     "data": {
      "text/plain": [
       "'i am not like this'"
      ]
     },
     "execution_count": 25,
     "metadata": {},
     "output_type": "execute_result"
    }
   ],
   "source": [
    "\"i am not like you\"\n",
    "\"i am not like this\""
   ]
  },
  {
   "cell_type": "code",
   "execution_count": 26,
   "id": "458a3b8c",
   "metadata": {},
   "outputs": [
    {
     "name": "stdout",
     "output_type": "stream",
     "text": [
      "i am not like you\n",
      "i am not like this\n"
     ]
    }
   ],
   "source": [
    "print (\"i am not like you\")\n",
    "print (\"i am not like this\")"
   ]
  },
  {
   "cell_type": "code",
   "execution_count": 27,
   "id": "926cc943",
   "metadata": {},
   "outputs": [
    {
     "name": "stdout",
     "output_type": "stream",
     "text": [
      "hello /n world\n"
     ]
    }
   ],
   "source": [
    "print ('hello /n world')"
   ]
  },
  {
   "cell_type": "code",
   "execution_count": 28,
   "id": "48c72312",
   "metadata": {},
   "outputs": [
    {
     "name": "stdout",
     "output_type": "stream",
     "text": [
      "hello \n",
      " world\n"
     ]
    }
   ],
   "source": [
    "print ('hello \\n world')"
   ]
  },
  {
   "cell_type": "code",
   "execution_count": 29,
   "id": "929a09d5",
   "metadata": {},
   "outputs": [
    {
     "name": "stdout",
     "output_type": "stream",
     "text": [
      "hello \n",
      "world\n"
     ]
    }
   ],
   "source": [
    "print ('hello \\nworld')"
   ]
  },
  {
   "cell_type": "code",
   "execution_count": 30,
   "id": "b0fbbe98",
   "metadata": {},
   "outputs": [
    {
     "name": "stdout",
     "output_type": "stream",
     "text": [
      "hello \tworld\n"
     ]
    }
   ],
   "source": [
    "print ('hello \\tworld')"
   ]
  },
  {
   "cell_type": "code",
   "execution_count": 31,
   "id": "132ad46f",
   "metadata": {},
   "outputs": [
    {
     "data": {
      "text/plain": [
       "5"
      ]
     },
     "execution_count": 31,
     "metadata": {},
     "output_type": "execute_result"
    }
   ],
   "source": [
    "len ('hello')"
   ]
  },
  {
   "cell_type": "code",
   "execution_count": 32,
   "id": "ea4c99d5",
   "metadata": {},
   "outputs": [
    {
     "data": {
      "text/plain": [
       "5"
      ]
     },
     "execution_count": 32,
     "metadata": {},
     "output_type": "execute_result"
    }
   ],
   "source": [
    "len ('varun')"
   ]
  },
  {
   "cell_type": "code",
   "execution_count": 33,
   "id": "e2e52f6e",
   "metadata": {},
   "outputs": [
    {
     "data": {
      "text/plain": [
       "6"
      ]
     },
     "execution_count": 33,
     "metadata": {},
     "output_type": "execute_result"
    }
   ],
   "source": [
    "len ('shweta')"
   ]
  },
  {
   "cell_type": "code",
   "execution_count": 34,
   "id": "67898e7e",
   "metadata": {},
   "outputs": [],
   "source": [
    "mystring='Varun'"
   ]
  },
  {
   "cell_type": "code",
   "execution_count": 35,
   "id": "dcc2e521",
   "metadata": {},
   "outputs": [
    {
     "data": {
      "text/plain": [
       "'Varun'"
      ]
     },
     "execution_count": 35,
     "metadata": {},
     "output_type": "execute_result"
    }
   ],
   "source": [
    "mystring"
   ]
  },
  {
   "cell_type": "code",
   "execution_count": 36,
   "id": "19c7d550",
   "metadata": {},
   "outputs": [
    {
     "data": {
      "text/plain": [
       "'a'"
      ]
     },
     "execution_count": 36,
     "metadata": {},
     "output_type": "execute_result"
    }
   ],
   "source": [
    "mystring[1]"
   ]
  },
  {
   "cell_type": "code",
   "execution_count": 37,
   "id": "2f15b04c",
   "metadata": {},
   "outputs": [
    {
     "ename": "IndexError",
     "evalue": "string index out of range",
     "output_type": "error",
     "traceback": [
      "\u001b[1;31m---------------------------------------------------------------------------\u001b[0m",
      "\u001b[1;31mIndexError\u001b[0m                                Traceback (most recent call last)",
      "\u001b[1;32m~\\AppData\\Local\\Temp\\ipykernel_21604\\1142401380.py\u001b[0m in \u001b[0;36m<module>\u001b[1;34m\u001b[0m\n\u001b[1;32m----> 1\u001b[1;33m \u001b[0mmystring\u001b[0m\u001b[1;33m[\u001b[0m\u001b[1;36m5\u001b[0m\u001b[1;33m]\u001b[0m\u001b[1;33m\u001b[0m\u001b[1;33m\u001b[0m\u001b[0m\n\u001b[0m",
      "\u001b[1;31mIndexError\u001b[0m: string index out of range"
     ]
    }
   ],
   "source": [
    "mystring[5]"
   ]
  },
  {
   "cell_type": "code",
   "execution_count": 38,
   "id": "1abb4277",
   "metadata": {},
   "outputs": [
    {
     "data": {
      "text/plain": [
       "'n'"
      ]
     },
     "execution_count": 38,
     "metadata": {},
     "output_type": "execute_result"
    }
   ],
   "source": [
    "mystring[4]"
   ]
  },
  {
   "cell_type": "code",
   "execution_count": 39,
   "id": "8920bdb9",
   "metadata": {},
   "outputs": [],
   "source": [
    "mystring='shweta'"
   ]
  },
  {
   "cell_type": "code",
   "execution_count": 40,
   "id": "681021ec",
   "metadata": {},
   "outputs": [
    {
     "data": {
      "text/plain": [
       "'shweta'"
      ]
     },
     "execution_count": 40,
     "metadata": {},
     "output_type": "execute_result"
    }
   ],
   "source": [
    "mystring"
   ]
  },
  {
   "cell_type": "code",
   "execution_count": 41,
   "id": "3b3c6edb",
   "metadata": {},
   "outputs": [
    {
     "data": {
      "text/plain": [
       "'w'"
      ]
     },
     "execution_count": 41,
     "metadata": {},
     "output_type": "execute_result"
    }
   ],
   "source": [
    "mystring[2]"
   ]
  },
  {
   "cell_type": "code",
   "execution_count": 42,
   "id": "23469790",
   "metadata": {},
   "outputs": [
    {
     "data": {
      "text/plain": [
       "'e'"
      ]
     },
     "execution_count": 42,
     "metadata": {},
     "output_type": "execute_result"
    }
   ],
   "source": [
    "mystring[3]"
   ]
  },
  {
   "cell_type": "code",
   "execution_count": 43,
   "id": "2d6ef2fa",
   "metadata": {},
   "outputs": [],
   "source": [
    "mystring='incomplete'"
   ]
  },
  {
   "cell_type": "code",
   "execution_count": 44,
   "id": "a689f5d4",
   "metadata": {},
   "outputs": [
    {
     "data": {
      "text/plain": [
       "'incomplete'"
      ]
     },
     "execution_count": 44,
     "metadata": {},
     "output_type": "execute_result"
    }
   ],
   "source": [
    "mystring"
   ]
  },
  {
   "cell_type": "code",
   "execution_count": 45,
   "id": "dba95c6b",
   "metadata": {},
   "outputs": [
    {
     "data": {
      "text/plain": [
       "'e'"
      ]
     },
     "execution_count": 45,
     "metadata": {},
     "output_type": "execute_result"
    }
   ],
   "source": [
    "mystring[-3]"
   ]
  },
  {
   "cell_type": "code",
   "execution_count": 46,
   "id": "813f8af3",
   "metadata": {},
   "outputs": [
    {
     "data": {
      "text/plain": [
       "'o'"
      ]
     },
     "execution_count": 46,
     "metadata": {},
     "output_type": "execute_result"
    }
   ],
   "source": [
    "mystring[3]"
   ]
  },
  {
   "cell_type": "code",
   "execution_count": 47,
   "id": "ed1828ca",
   "metadata": {},
   "outputs": [
    {
     "data": {
      "text/plain": [
       "'l'"
      ]
     },
     "execution_count": 47,
     "metadata": {},
     "output_type": "execute_result"
    }
   ],
   "source": [
    "mystring[-4]"
   ]
  },
  {
   "cell_type": "code",
   "execution_count": 48,
   "id": "17a2ebdf",
   "metadata": {},
   "outputs": [
    {
     "data": {
      "text/plain": [
       "'incomplete'"
      ]
     },
     "execution_count": 48,
     "metadata": {},
     "output_type": "execute_result"
    }
   ],
   "source": [
    "mystring"
   ]
  },
  {
   "cell_type": "code",
   "execution_count": 49,
   "id": "afe4895f",
   "metadata": {},
   "outputs": [
    {
     "data": {
      "text/plain": [
       "'omplete'"
      ]
     },
     "execution_count": 49,
     "metadata": {},
     "output_type": "execute_result"
    }
   ],
   "source": [
    "mystring[3:]"
   ]
  },
  {
   "cell_type": "code",
   "execution_count": 50,
   "id": "8dcebda6",
   "metadata": {},
   "outputs": [
    {
     "data": {
      "text/plain": [
       "'inco'"
      ]
     },
     "execution_count": 50,
     "metadata": {},
     "output_type": "execute_result"
    }
   ],
   "source": [
    "mystring[:4]"
   ]
  },
  {
   "cell_type": "code",
   "execution_count": 51,
   "id": "e1da061a",
   "metadata": {},
   "outputs": [
    {
     "ename": "NameError",
     "evalue": "name 'circumstances' is not defined",
     "output_type": "error",
     "traceback": [
      "\u001b[1;31m---------------------------------------------------------------------------\u001b[0m",
      "\u001b[1;31mNameError\u001b[0m                                 Traceback (most recent call last)",
      "\u001b[1;32m~\\AppData\\Local\\Temp\\ipykernel_21604\\1576941258.py\u001b[0m in \u001b[0;36m<module>\u001b[1;34m\u001b[0m\n\u001b[1;32m----> 1\u001b[1;33m \u001b[0mmystring\u001b[0m\u001b[1;33m=\u001b[0m\u001b[0mcircumstances\u001b[0m\u001b[1;33m\u001b[0m\u001b[1;33m\u001b[0m\u001b[0m\n\u001b[0m",
      "\u001b[1;31mNameError\u001b[0m: name 'circumstances' is not defined"
     ]
    }
   ],
   "source": [
    "mystring=circumstances"
   ]
  },
  {
   "cell_type": "code",
   "execution_count": 52,
   "id": "1b97fc20",
   "metadata": {},
   "outputs": [],
   "source": [
    "mystring='circumstances'"
   ]
  },
  {
   "cell_type": "code",
   "execution_count": 53,
   "id": "687e577a",
   "metadata": {},
   "outputs": [
    {
     "data": {
      "text/plain": [
       "'circumstances'"
      ]
     },
     "execution_count": 53,
     "metadata": {},
     "output_type": "execute_result"
    }
   ],
   "source": [
    "mystring"
   ]
  },
  {
   "cell_type": "code",
   "execution_count": 54,
   "id": "9c214feb",
   "metadata": {},
   "outputs": [
    {
     "data": {
      "text/plain": [
       "'cir'"
      ]
     },
     "execution_count": 54,
     "metadata": {},
     "output_type": "execute_result"
    }
   ],
   "source": [
    "mystring[:3]"
   ]
  },
  {
   "cell_type": "code",
   "execution_count": 55,
   "id": "5a1d6fc4",
   "metadata": {},
   "outputs": [
    {
     "data": {
      "text/plain": [
       "'umstances'"
      ]
     },
     "execution_count": 55,
     "metadata": {},
     "output_type": "execute_result"
    }
   ],
   "source": [
    "mystring[4:]"
   ]
  },
  {
   "cell_type": "code",
   "execution_count": 56,
   "id": "665dc09e",
   "metadata": {},
   "outputs": [
    {
     "ename": "SyntaxError",
     "evalue": "invalid syntax (2498876399.py, line 1)",
     "output_type": "error",
     "traceback": [
      "\u001b[1;36m  File \u001b[1;32m\"C:\\Users\\Varun kapadia\\AppData\\Local\\Temp\\ipykernel_21604\\2498876399.py\"\u001b[1;36m, line \u001b[1;32m1\u001b[0m\n\u001b[1;33m    mystring=[2:8]\u001b[0m\n\u001b[1;37m               ^\u001b[0m\n\u001b[1;31mSyntaxError\u001b[0m\u001b[1;31m:\u001b[0m invalid syntax\n"
     ]
    }
   ],
   "source": [
    "mystring=[2:8]"
   ]
  },
  {
   "cell_type": "code",
   "execution_count": 57,
   "id": "cb915459",
   "metadata": {},
   "outputs": [
    {
     "ename": "SyntaxError",
     "evalue": "invalid syntax (3867387442.py, line 1)",
     "output_type": "error",
     "traceback": [
      "\u001b[1;36m  File \u001b[1;32m\"C:\\Users\\Varun kapadia\\AppData\\Local\\Temp\\ipykernel_21604\\3867387442.py\"\u001b[1;36m, line \u001b[1;32m1\u001b[0m\n\u001b[1;33m    mystring=[2:6]\u001b[0m\n\u001b[1;37m               ^\u001b[0m\n\u001b[1;31mSyntaxError\u001b[0m\u001b[1;31m:\u001b[0m invalid syntax\n"
     ]
    }
   ],
   "source": [
    "mystring=[2:6]"
   ]
  },
  {
   "cell_type": "code",
   "execution_count": 58,
   "id": "369082b0",
   "metadata": {},
   "outputs": [
    {
     "data": {
      "text/plain": [
       "'rcum'"
      ]
     },
     "execution_count": 58,
     "metadata": {},
     "output_type": "execute_result"
    }
   ],
   "source": [
    "mystring[2:6]"
   ]
  },
  {
   "cell_type": "code",
   "execution_count": 59,
   "id": "d41ee724",
   "metadata": {},
   "outputs": [
    {
     "data": {
      "text/plain": [
       "'umst'"
      ]
     },
     "execution_count": 59,
     "metadata": {},
     "output_type": "execute_result"
    }
   ],
   "source": [
    "mystring[4:8]"
   ]
  },
  {
   "cell_type": "code",
   "execution_count": 60,
   "id": "f462d009",
   "metadata": {},
   "outputs": [
    {
     "data": {
      "text/plain": [
       "'circumstances'"
      ]
     },
     "execution_count": 60,
     "metadata": {},
     "output_type": "execute_result"
    }
   ],
   "source": [
    "mystring"
   ]
  },
  {
   "cell_type": "code",
   "execution_count": 61,
   "id": "fc23aedc",
   "metadata": {},
   "outputs": [
    {
     "data": {
      "text/plain": [
       "'circumstances'"
      ]
     },
     "execution_count": 61,
     "metadata": {},
     "output_type": "execute_result"
    }
   ],
   "source": [
    "mystring[::]"
   ]
  },
  {
   "cell_type": "code",
   "execution_count": 62,
   "id": "7ac40ca0",
   "metadata": {},
   "outputs": [
    {
     "data": {
      "text/plain": [
       "'crusacs'"
      ]
     },
     "execution_count": 62,
     "metadata": {},
     "output_type": "execute_result"
    }
   ],
   "source": [
    "mystring[::2]"
   ]
  },
  {
   "cell_type": "code",
   "execution_count": 63,
   "id": "85f5869c",
   "metadata": {},
   "outputs": [
    {
     "data": {
      "text/plain": [
       "'ccsns'"
      ]
     },
     "execution_count": 63,
     "metadata": {},
     "output_type": "execute_result"
    }
   ],
   "source": [
    "mystring[::3]"
   ]
  },
  {
   "cell_type": "code",
   "execution_count": 64,
   "id": "42c7bc00",
   "metadata": {},
   "outputs": [
    {
     "data": {
      "text/plain": [
       "'secnatsmucric'"
      ]
     },
     "execution_count": 64,
     "metadata": {},
     "output_type": "execute_result"
    }
   ],
   "source": [
    "mystring[::-1]"
   ]
  },
  {
   "cell_type": "code",
   "execution_count": 65,
   "id": "37fae29f",
   "metadata": {},
   "outputs": [
    {
     "data": {
      "text/plain": [
       "'circumstances'"
      ]
     },
     "execution_count": 65,
     "metadata": {},
     "output_type": "execute_result"
    }
   ],
   "source": [
    "mystring"
   ]
  },
  {
   "cell_type": "code",
   "execution_count": 66,
   "id": "25b47c6c",
   "metadata": {},
   "outputs": [
    {
     "data": {
      "text/plain": [
       "'rus'"
      ]
     },
     "execution_count": 66,
     "metadata": {},
     "output_type": "execute_result"
    }
   ],
   "source": [
    "mystring[2:7:2]"
   ]
  },
  {
   "cell_type": "code",
   "execution_count": 67,
   "id": "14f409ed",
   "metadata": {},
   "outputs": [
    {
     "data": {
      "text/plain": [
       "'scasurc'"
      ]
     },
     "execution_count": 67,
     "metadata": {},
     "output_type": "execute_result"
    }
   ],
   "source": [
    "mystring[::-2]"
   ]
  },
  {
   "cell_type": "code",
   "execution_count": 1,
   "id": "0a66a736",
   "metadata": {},
   "outputs": [],
   "source": [
    "name = 'Sam'"
   ]
  },
  {
   "cell_type": "code",
   "execution_count": 2,
   "id": "c4b7a730",
   "metadata": {},
   "outputs": [
    {
     "ename": "TypeError",
     "evalue": "'str' object does not support item assignment",
     "output_type": "error",
     "traceback": [
      "\u001b[1;31m---------------------------------------------------------------------------\u001b[0m",
      "\u001b[1;31mTypeError\u001b[0m                                 Traceback (most recent call last)",
      "\u001b[1;32m~\\AppData\\Local\\Temp\\ipykernel_31336\\1303335626.py\u001b[0m in \u001b[0;36m<module>\u001b[1;34m\u001b[0m\n\u001b[1;32m----> 1\u001b[1;33m \u001b[0mname\u001b[0m \u001b[1;33m[\u001b[0m\u001b[1;36m0\u001b[0m\u001b[1;33m]\u001b[0m\u001b[1;33m=\u001b[0m\u001b[1;34m\"P\"\u001b[0m\u001b[1;33m\u001b[0m\u001b[1;33m\u001b[0m\u001b[0m\n\u001b[0m",
      "\u001b[1;31mTypeError\u001b[0m: 'str' object does not support item assignment"
     ]
    }
   ],
   "source": [
    "name [0]=\"P\""
   ]
  },
  {
   "cell_type": "code",
   "execution_count": 3,
   "id": "a08d9d1f",
   "metadata": {},
   "outputs": [
    {
     "data": {
      "text/plain": [
       "'am'"
      ]
     },
     "execution_count": 3,
     "metadata": {},
     "output_type": "execute_result"
    }
   ],
   "source": [
    "name[1:]"
   ]
  },
  {
   "cell_type": "code",
   "execution_count": 4,
   "id": "6baa0e99",
   "metadata": {},
   "outputs": [],
   "source": [
    "last_letters=name[1:]"
   ]
  },
  {
   "cell_type": "code",
   "execution_count": 5,
   "id": "240e7fd2",
   "metadata": {},
   "outputs": [
    {
     "data": {
      "text/plain": [
       "'am'"
      ]
     },
     "execution_count": 5,
     "metadata": {},
     "output_type": "execute_result"
    }
   ],
   "source": [
    "last_letters"
   ]
  },
  {
   "cell_type": "code",
   "execution_count": 6,
   "id": "44885750",
   "metadata": {},
   "outputs": [
    {
     "ename": "NameError",
     "evalue": "name 'P' is not defined",
     "output_type": "error",
     "traceback": [
      "\u001b[1;31m---------------------------------------------------------------------------\u001b[0m",
      "\u001b[1;31mNameError\u001b[0m                                 Traceback (most recent call last)",
      "\u001b[1;32m~\\AppData\\Local\\Temp\\ipykernel_31336\\4023320783.py\u001b[0m in \u001b[0;36m<module>\u001b[1;34m\u001b[0m\n\u001b[1;32m----> 1\u001b[1;33m \u001b[0mP\u001b[0m\u001b[1;33m+\u001b[0m\u001b[0mlast_letters\u001b[0m\u001b[1;33m\u001b[0m\u001b[1;33m\u001b[0m\u001b[0m\n\u001b[0m",
      "\u001b[1;31mNameError\u001b[0m: name 'P' is not defined"
     ]
    }
   ],
   "source": [
    "P+last_letters"
   ]
  },
  {
   "cell_type": "code",
   "execution_count": 7,
   "id": "25b1ac2a",
   "metadata": {},
   "outputs": [
    {
     "data": {
      "text/plain": [
       "'Pam'"
      ]
     },
     "execution_count": 7,
     "metadata": {},
     "output_type": "execute_result"
    }
   ],
   "source": [
    "'P'+last_letters"
   ]
  },
  {
   "cell_type": "code",
   "execution_count": 8,
   "id": "752ba1b8",
   "metadata": {},
   "outputs": [],
   "source": [
    "x='Hello World'"
   ]
  },
  {
   "cell_type": "code",
   "execution_count": 9,
   "id": "aacd2a3a",
   "metadata": {},
   "outputs": [
    {
     "data": {
      "text/plain": [
       "'Hello World'"
      ]
     },
     "execution_count": 9,
     "metadata": {},
     "output_type": "execute_result"
    }
   ],
   "source": [
    "x"
   ]
  },
  {
   "cell_type": "code",
   "execution_count": 12,
   "id": "1a0e1ad9",
   "metadata": {},
   "outputs": [],
   "source": [
    "x=x+' its beautiful outside'"
   ]
  },
  {
   "cell_type": "code",
   "execution_count": 13,
   "id": "f603a510",
   "metadata": {},
   "outputs": [
    {
     "data": {
      "text/plain": [
       "'Hello World its beautiful outside'"
      ]
     },
     "execution_count": 13,
     "metadata": {},
     "output_type": "execute_result"
    }
   ],
   "source": [
    "x"
   ]
  },
  {
   "cell_type": "code",
   "execution_count": 14,
   "id": "2b4b3daf",
   "metadata": {},
   "outputs": [
    {
     "ename": "SyntaxError",
     "evalue": "cannot assign to literal (3140551594.py, line 1)",
     "output_type": "error",
     "traceback": [
      "\u001b[1;36m  File \u001b[1;32m\"C:\\Users\\Varun kapadia\\AppData\\Local\\Temp\\ipykernel_31336\\3140551594.py\"\u001b[1;36m, line \u001b[1;32m1\u001b[0m\n\u001b[1;33m    'letter'=z\u001b[0m\n\u001b[1;37m    ^\u001b[0m\n\u001b[1;31mSyntaxError\u001b[0m\u001b[1;31m:\u001b[0m cannot assign to literal\n"
     ]
    }
   ],
   "source": [
    "'letter'=z"
   ]
  },
  {
   "cell_type": "code",
   "execution_count": 15,
   "id": "33ffdf27",
   "metadata": {},
   "outputs": [],
   "source": [
    "letter='z'"
   ]
  },
  {
   "cell_type": "code",
   "execution_count": 16,
   "id": "bec10d7f",
   "metadata": {},
   "outputs": [
    {
     "data": {
      "text/plain": [
       "'zzzzzzzzzz'"
      ]
     },
     "execution_count": 16,
     "metadata": {},
     "output_type": "execute_result"
    }
   ],
   "source": [
    "letter*10"
   ]
  },
  {
   "cell_type": "code",
   "execution_count": 17,
   "id": "0d8ad3f6",
   "metadata": {},
   "outputs": [
    {
     "data": {
      "text/plain": [
       "5"
      ]
     },
     "execution_count": 17,
     "metadata": {},
     "output_type": "execute_result"
    }
   ],
   "source": [
    "2+3"
   ]
  },
  {
   "cell_type": "code",
   "execution_count": 18,
   "id": "ab01b800",
   "metadata": {},
   "outputs": [
    {
     "data": {
      "text/plain": [
       "'23'"
      ]
     },
     "execution_count": 18,
     "metadata": {},
     "output_type": "execute_result"
    }
   ],
   "source": [
    "'2'+'3'"
   ]
  },
  {
   "cell_type": "code",
   "execution_count": 19,
   "id": "bbbddb2c",
   "metadata": {},
   "outputs": [],
   "source": [
    "x='Hello World'"
   ]
  },
  {
   "cell_type": "code",
   "execution_count": 20,
   "id": "98ed016f",
   "metadata": {},
   "outputs": [
    {
     "ename": "SyntaxError",
     "evalue": "invalid syntax (326118774.py, line 1)",
     "output_type": "error",
     "traceback": [
      "\u001b[1;36m  File \u001b[1;32m\"C:\\Users\\Varun kapadia\\AppData\\Local\\Temp\\ipykernel_31336\\326118774.py\"\u001b[1;36m, line \u001b[1;32m1\u001b[0m\n\u001b[1;33m    x.upper{}\u001b[0m\n\u001b[1;37m           ^\u001b[0m\n\u001b[1;31mSyntaxError\u001b[0m\u001b[1;31m:\u001b[0m invalid syntax\n"
     ]
    }
   ],
   "source": [
    "x.upper{}"
   ]
  },
  {
   "cell_type": "code",
   "execution_count": 21,
   "id": "a1496398",
   "metadata": {},
   "outputs": [
    {
     "data": {
      "text/plain": [
       "'HELLO WORLD'"
      ]
     },
     "execution_count": 21,
     "metadata": {},
     "output_type": "execute_result"
    }
   ],
   "source": [
    "x.upper()"
   ]
  },
  {
   "cell_type": "code",
   "execution_count": 22,
   "id": "548f0072",
   "metadata": {},
   "outputs": [
    {
     "data": {
      "text/plain": [
       "'hello world'"
      ]
     },
     "execution_count": 22,
     "metadata": {},
     "output_type": "execute_result"
    }
   ],
   "source": [
    "x.lower()"
   ]
  },
  {
   "cell_type": "code",
   "execution_count": 23,
   "id": "fe054714",
   "metadata": {},
   "outputs": [
    {
     "data": {
      "text/plain": [
       "['Hello', 'World']"
      ]
     },
     "execution_count": 23,
     "metadata": {},
     "output_type": "execute_result"
    }
   ],
   "source": [
    "x.split()"
   ]
  },
  {
   "cell_type": "code",
   "execution_count": 24,
   "id": "8f727f15",
   "metadata": {},
   "outputs": [],
   "source": [
    "x='Hi this is a split'"
   ]
  },
  {
   "cell_type": "code",
   "execution_count": 25,
   "id": "3ee9b683",
   "metadata": {},
   "outputs": [
    {
     "data": {
      "text/plain": [
       "'Hi this is a split'"
      ]
     },
     "execution_count": 25,
     "metadata": {},
     "output_type": "execute_result"
    }
   ],
   "source": [
    "x"
   ]
  },
  {
   "cell_type": "code",
   "execution_count": 26,
   "id": "890ba25d",
   "metadata": {},
   "outputs": [
    {
     "data": {
      "text/plain": [
       "['Hi', 'this', 'is', 'a', 'split']"
      ]
     },
     "execution_count": 26,
     "metadata": {},
     "output_type": "execute_result"
    }
   ],
   "source": [
    "x.split()"
   ]
  },
  {
   "cell_type": "code",
   "execution_count": 27,
   "id": "f41d344e",
   "metadata": {},
   "outputs": [
    {
     "ename": "NameError",
     "evalue": "name 'i' is not defined",
     "output_type": "error",
     "traceback": [
      "\u001b[1;31m---------------------------------------------------------------------------\u001b[0m",
      "\u001b[1;31mNameError\u001b[0m                                 Traceback (most recent call last)",
      "\u001b[1;32m~\\AppData\\Local\\Temp\\ipykernel_31336\\2441490167.py\u001b[0m in \u001b[0;36m<module>\u001b[1;34m\u001b[0m\n\u001b[1;32m----> 1\u001b[1;33m \u001b[0mx\u001b[0m\u001b[1;33m.\u001b[0m\u001b[0msplit\u001b[0m\u001b[1;33m(\u001b[0m\u001b[0mi\u001b[0m\u001b[1;33m)\u001b[0m\u001b[1;33m\u001b[0m\u001b[1;33m\u001b[0m\u001b[0m\n\u001b[0m",
      "\u001b[1;31mNameError\u001b[0m: name 'i' is not defined"
     ]
    }
   ],
   "source": [
    "x.split(i)"
   ]
  },
  {
   "cell_type": "code",
   "execution_count": 28,
   "id": "5f4dbfe9",
   "metadata": {},
   "outputs": [
    {
     "data": {
      "text/plain": [
       "['H', ' th', 's ', 's a spl', 't']"
      ]
     },
     "execution_count": 28,
     "metadata": {},
     "output_type": "execute_result"
    }
   ],
   "source": [
    "x.split('i')"
   ]
  },
  {
   "cell_type": "code",
   "execution_count": 30,
   "id": "0ac8acf5",
   "metadata": {},
   "outputs": [
    {
     "name": "stdout",
     "output_type": "stream",
     "text": [
      "This is a string INSERTED\n"
     ]
    }
   ],
   "source": [
    "print('This is a string {}' .format('INSERTED'))"
   ]
  },
  {
   "cell_type": "code",
   "execution_count": 31,
   "id": "5a1cee50",
   "metadata": {},
   "outputs": [
    {
     "name": "stdout",
     "output_type": "stream",
     "text": [
      "The fox brown quick\n"
     ]
    }
   ],
   "source": [
    "print('The {} {} {}' .format('fox', 'brown', 'quick'))"
   ]
  },
  {
   "cell_type": "code",
   "execution_count": 32,
   "id": "9c37cba4",
   "metadata": {},
   "outputs": [
    {
     "name": "stdout",
     "output_type": "stream",
     "text": [
      "The quick brown fox\n"
     ]
    }
   ],
   "source": [
    "print('The {2} {1} {0}' .format ('fox', 'brown', 'quick'))"
   ]
  },
  {
   "cell_type": "code",
   "execution_count": 33,
   "id": "d6cb270d",
   "metadata": {},
   "outputs": [
    {
     "name": "stdout",
     "output_type": "stream",
     "text": [
      "The fox fox fox\n"
     ]
    }
   ],
   "source": [
    "print('The {0} {0} {0}' .format ('fox', 'brown', 'quick'))"
   ]
  },
  {
   "cell_type": "code",
   "execution_count": 34,
   "id": "34225392",
   "metadata": {},
   "outputs": [
    {
     "ename": "IndexError",
     "evalue": "Replacement index 0 out of range for positional args tuple",
     "output_type": "error",
     "traceback": [
      "\u001b[1;31m---------------------------------------------------------------------------\u001b[0m",
      "\u001b[1;31mIndexError\u001b[0m                                Traceback (most recent call last)",
      "\u001b[1;32m~\\AppData\\Local\\Temp\\ipykernel_31336\\1850805926.py\u001b[0m in \u001b[0;36m<module>\u001b[1;34m\u001b[0m\n\u001b[1;32m----> 1\u001b[1;33m \u001b[0mprint\u001b[0m\u001b[1;33m(\u001b[0m\u001b[1;34m'The {} {} {}'\u001b[0m \u001b[1;33m.\u001b[0m\u001b[0mformat\u001b[0m \u001b[1;33m(\u001b[0m\u001b[0mf\u001b[0m\u001b[1;33m=\u001b[0m\u001b[1;34m'fox'\u001b[0m\u001b[1;33m,\u001b[0m \u001b[0mb\u001b[0m\u001b[1;33m=\u001b[0m\u001b[1;34m'brown'\u001b[0m\u001b[1;33m,\u001b[0m \u001b[0mq\u001b[0m\u001b[1;33m=\u001b[0m\u001b[1;34m'quick'\u001b[0m\u001b[1;33m)\u001b[0m\u001b[1;33m)\u001b[0m\u001b[1;33m\u001b[0m\u001b[1;33m\u001b[0m\u001b[0m\n\u001b[0m",
      "\u001b[1;31mIndexError\u001b[0m: Replacement index 0 out of range for positional args tuple"
     ]
    }
   ],
   "source": [
    "print('The {} {} {}' .format (f='fox', b='brown', q='quick'))"
   ]
  },
  {
   "cell_type": "code",
   "execution_count": 35,
   "id": "4b457377",
   "metadata": {},
   "outputs": [
    {
     "name": "stdout",
     "output_type": "stream",
     "text": [
      "The quick brown fox\n"
     ]
    }
   ],
   "source": [
    "print('The {q} {b} {f}' .format (f='fox', b='brown', q='quick'))"
   ]
  },
  {
   "cell_type": "code",
   "execution_count": 36,
   "id": "1adba023",
   "metadata": {},
   "outputs": [],
   "source": [
    "result=100/177"
   ]
  },
  {
   "cell_type": "code",
   "execution_count": 37,
   "id": "c42aa789",
   "metadata": {},
   "outputs": [
    {
     "data": {
      "text/plain": [
       "0.5649717514124294"
      ]
     },
     "execution_count": 37,
     "metadata": {},
     "output_type": "execute_result"
    }
   ],
   "source": [
    "result"
   ]
  },
  {
   "cell_type": "code",
   "execution_count": 38,
   "id": "0f3ed4bb",
   "metadata": {},
   "outputs": [
    {
     "name": "stdout",
     "output_type": "stream",
     "text": [
      "The result was 0.5649717514124294\n"
     ]
    }
   ],
   "source": [
    "print('The result was {r}' .format(r=result))"
   ]
  },
  {
   "cell_type": "code",
   "execution_count": 39,
   "id": "84dd49ac",
   "metadata": {},
   "outputs": [],
   "source": [
    "name='Varun'"
   ]
  },
  {
   "cell_type": "code",
   "execution_count": 40,
   "id": "485e4d49",
   "metadata": {},
   "outputs": [
    {
     "data": {
      "text/plain": [
       "'Varun'"
      ]
     },
     "execution_count": 40,
     "metadata": {},
     "output_type": "execute_result"
    }
   ],
   "source": [
    "name"
   ]
  },
  {
   "cell_type": "code",
   "execution_count": 41,
   "id": "231034d8",
   "metadata": {},
   "outputs": [
    {
     "name": "stdout",
     "output_type": "stream",
     "text": [
      "Hello, his name is Varun\n"
     ]
    }
   ],
   "source": [
    "print('Hello, his name is {}' .format(name))"
   ]
  },
  {
   "cell_type": "code",
   "execution_count": 42,
   "id": "21dec3a1",
   "metadata": {},
   "outputs": [
    {
     "name": "stdout",
     "output_type": "stream",
     "text": [
      "Hello, his name is Varun\n"
     ]
    }
   ],
   "source": [
    "print(f'Hello, his name is {name}')"
   ]
  },
  {
   "cell_type": "code",
   "execution_count": 43,
   "id": "27e8d613",
   "metadata": {},
   "outputs": [],
   "source": [
    "name='Varun'\n",
    "age='30'"
   ]
  },
  {
   "cell_type": "code",
   "execution_count": 44,
   "id": "eb5ef1cf",
   "metadata": {},
   "outputs": [
    {
     "name": "stdout",
     "output_type": "stream",
     "text": [
      "Hello, his name is Varun and he is 30 years old\n"
     ]
    }
   ],
   "source": [
    "print(f'Hello, his name is {name} and he is {age} years old')"
   ]
  },
  {
   "cell_type": "code",
   "execution_count": 1,
   "id": "3591d16c",
   "metadata": {},
   "outputs": [],
   "source": [
    "my_list=[1,2,3]"
   ]
  },
  {
   "cell_type": "code",
   "execution_count": 2,
   "id": "669b1c7a",
   "metadata": {},
   "outputs": [],
   "source": [
    "my_list=['string', '100', '25.5']"
   ]
  },
  {
   "cell_type": "code",
   "execution_count": 3,
   "id": "d34bd571",
   "metadata": {},
   "outputs": [
    {
     "data": {
      "text/plain": [
       "3"
      ]
     },
     "execution_count": 3,
     "metadata": {},
     "output_type": "execute_result"
    }
   ],
   "source": [
    "len(my_list)"
   ]
  },
  {
   "cell_type": "code",
   "execution_count": 4,
   "id": "e958811d",
   "metadata": {},
   "outputs": [],
   "source": [
    "mylist=['one', 'two', 'three']"
   ]
  },
  {
   "cell_type": "code",
   "execution_count": 5,
   "id": "5080606f",
   "metadata": {},
   "outputs": [
    {
     "data": {
      "text/plain": [
       "'one'"
      ]
     },
     "execution_count": 5,
     "metadata": {},
     "output_type": "execute_result"
    }
   ],
   "source": [
    "mylist[0]"
   ]
  },
  {
   "cell_type": "code",
   "execution_count": 6,
   "id": "f318a27e",
   "metadata": {},
   "outputs": [
    {
     "data": {
      "text/plain": [
       "['two', 'three']"
      ]
     },
     "execution_count": 6,
     "metadata": {},
     "output_type": "execute_result"
    }
   ],
   "source": [
    "mylist[1:]"
   ]
  },
  {
   "cell_type": "code",
   "execution_count": 7,
   "id": "35f3a1b7",
   "metadata": {},
   "outputs": [],
   "source": [
    "another_list=['four', 'five']"
   ]
  },
  {
   "cell_type": "code",
   "execution_count": 8,
   "id": "970c3b84",
   "metadata": {},
   "outputs": [
    {
     "data": {
      "text/plain": [
       "['four', 'five']"
      ]
     },
     "execution_count": 8,
     "metadata": {},
     "output_type": "execute_result"
    }
   ],
   "source": [
    "another_list"
   ]
  },
  {
   "cell_type": "code",
   "execution_count": 9,
   "id": "abc55096",
   "metadata": {},
   "outputs": [
    {
     "data": {
      "text/plain": [
       "['one', 'two', 'three', 'four', 'five']"
      ]
     },
     "execution_count": 9,
     "metadata": {},
     "output_type": "execute_result"
    }
   ],
   "source": [
    "mylist+another_list"
   ]
  },
  {
   "cell_type": "code",
   "execution_count": 10,
   "id": "7fb91108",
   "metadata": {},
   "outputs": [],
   "source": [
    "newlist=mylist+another_list"
   ]
  },
  {
   "cell_type": "code",
   "execution_count": 11,
   "id": "efb1635a",
   "metadata": {},
   "outputs": [
    {
     "data": {
      "text/plain": [
       "['one', 'two', 'three', 'four', 'five']"
      ]
     },
     "execution_count": 11,
     "metadata": {},
     "output_type": "execute_result"
    }
   ],
   "source": [
    "newlist"
   ]
  },
  {
   "cell_type": "code",
   "execution_count": 12,
   "id": "3aba34a8",
   "metadata": {},
   "outputs": [],
   "source": [
    "newlist[0]= 'ONE ALL CAPS'"
   ]
  },
  {
   "cell_type": "code",
   "execution_count": 13,
   "id": "3badf5c5",
   "metadata": {},
   "outputs": [
    {
     "data": {
      "text/plain": [
       "['ONE ALL CAPS', 'two', 'three', 'four', 'five']"
      ]
     },
     "execution_count": 13,
     "metadata": {},
     "output_type": "execute_result"
    }
   ],
   "source": [
    "newlist"
   ]
  },
  {
   "cell_type": "code",
   "execution_count": 14,
   "id": "fd3d05b4",
   "metadata": {},
   "outputs": [],
   "source": [
    "newlist.append('six')"
   ]
  },
  {
   "cell_type": "code",
   "execution_count": 15,
   "id": "b7fc8a04",
   "metadata": {},
   "outputs": [
    {
     "data": {
      "text/plain": [
       "['ONE ALL CAPS', 'two', 'three', 'four', 'five', 'six']"
      ]
     },
     "execution_count": 15,
     "metadata": {},
     "output_type": "execute_result"
    }
   ],
   "source": [
    "newlist"
   ]
  },
  {
   "cell_type": "code",
   "execution_count": 16,
   "id": "bb575100",
   "metadata": {},
   "outputs": [],
   "source": [
    "newlist.append('seven')"
   ]
  },
  {
   "cell_type": "code",
   "execution_count": 17,
   "id": "24f8032a",
   "metadata": {},
   "outputs": [
    {
     "data": {
      "text/plain": [
       "['ONE ALL CAPS', 'two', 'three', 'four', 'five', 'six', 'seven']"
      ]
     },
     "execution_count": 17,
     "metadata": {},
     "output_type": "execute_result"
    }
   ],
   "source": [
    "newlist"
   ]
  },
  {
   "cell_type": "code",
   "execution_count": 18,
   "id": "cece2c7c",
   "metadata": {},
   "outputs": [
    {
     "data": {
      "text/plain": [
       "'seven'"
      ]
     },
     "execution_count": 18,
     "metadata": {},
     "output_type": "execute_result"
    }
   ],
   "source": [
    "newlist.pop()"
   ]
  },
  {
   "cell_type": "code",
   "execution_count": 19,
   "id": "2c35a356",
   "metadata": {},
   "outputs": [
    {
     "data": {
      "text/plain": [
       "['ONE ALL CAPS', 'two', 'three', 'four', 'five', 'six']"
      ]
     },
     "execution_count": 19,
     "metadata": {},
     "output_type": "execute_result"
    }
   ],
   "source": [
    "newlist"
   ]
  },
  {
   "cell_type": "code",
   "execution_count": 20,
   "id": "c8cbc36a",
   "metadata": {},
   "outputs": [],
   "source": [
    "popped_item=newlist.pop()"
   ]
  },
  {
   "cell_type": "code",
   "execution_count": 21,
   "id": "cc9d69d4",
   "metadata": {},
   "outputs": [
    {
     "data": {
      "text/plain": [
       "'six'"
      ]
     },
     "execution_count": 21,
     "metadata": {},
     "output_type": "execute_result"
    }
   ],
   "source": [
    "popped_item"
   ]
  },
  {
   "cell_type": "code",
   "execution_count": 22,
   "id": "95235cf9",
   "metadata": {},
   "outputs": [
    {
     "data": {
      "text/plain": [
       "['ONE ALL CAPS', 'two', 'three', 'four', 'five']"
      ]
     },
     "execution_count": 22,
     "metadata": {},
     "output_type": "execute_result"
    }
   ],
   "source": [
    "newlist"
   ]
  },
  {
   "cell_type": "code",
   "execution_count": 23,
   "id": "fcbfaac8",
   "metadata": {},
   "outputs": [
    {
     "data": {
      "text/plain": [
       "'ONE ALL CAPS'"
      ]
     },
     "execution_count": 23,
     "metadata": {},
     "output_type": "execute_result"
    }
   ],
   "source": [
    "newlist.pop(0)"
   ]
  },
  {
   "cell_type": "code",
   "execution_count": 24,
   "id": "efa386ff",
   "metadata": {},
   "outputs": [
    {
     "data": {
      "text/plain": [
       "['two', 'three', 'four', 'five']"
      ]
     },
     "execution_count": 24,
     "metadata": {},
     "output_type": "execute_result"
    }
   ],
   "source": [
    "newlist"
   ]
  },
  {
   "cell_type": "code",
   "execution_count": 25,
   "id": "0c5742c1",
   "metadata": {},
   "outputs": [],
   "source": [
    "new_list=['a', 'e', 'b', 'c']\n",
    "num_list=[4,1,8,3]"
   ]
  },
  {
   "cell_type": "code",
   "execution_count": 26,
   "id": "ee89f064",
   "metadata": {},
   "outputs": [],
   "source": [
    "new_list.sort()"
   ]
  },
  {
   "cell_type": "code",
   "execution_count": 27,
   "id": "68ebe2fe",
   "metadata": {},
   "outputs": [
    {
     "data": {
      "text/plain": [
       "['a', 'b', 'c', 'e']"
      ]
     },
     "execution_count": 27,
     "metadata": {},
     "output_type": "execute_result"
    }
   ],
   "source": [
    "new_list"
   ]
  },
  {
   "cell_type": "code",
   "execution_count": 28,
   "id": "d8615403",
   "metadata": {},
   "outputs": [
    {
     "data": {
      "text/plain": [
       "[4, 1, 8, 3]"
      ]
     },
     "execution_count": 28,
     "metadata": {},
     "output_type": "execute_result"
    }
   ],
   "source": [
    "num_list"
   ]
  },
  {
   "cell_type": "code",
   "execution_count": 29,
   "id": "b0d8af61",
   "metadata": {},
   "outputs": [],
   "source": [
    "num_list.sort()"
   ]
  },
  {
   "cell_type": "code",
   "execution_count": 30,
   "id": "23b59cde",
   "metadata": {},
   "outputs": [
    {
     "data": {
      "text/plain": [
       "[1, 3, 4, 8]"
      ]
     },
     "execution_count": 30,
     "metadata": {},
     "output_type": "execute_result"
    }
   ],
   "source": [
    "num_list"
   ]
  },
  {
   "cell_type": "code",
   "execution_count": 31,
   "id": "9683e69c",
   "metadata": {},
   "outputs": [],
   "source": [
    "num_list.reverse()"
   ]
  },
  {
   "cell_type": "code",
   "execution_count": 32,
   "id": "fd3f731e",
   "metadata": {},
   "outputs": [
    {
     "data": {
      "text/plain": [
       "[8, 4, 3, 1]"
      ]
     },
     "execution_count": 32,
     "metadata": {},
     "output_type": "execute_result"
    }
   ],
   "source": [
    "num_list"
   ]
  },
  {
   "cell_type": "code",
   "execution_count": 33,
   "id": "e25aeb01",
   "metadata": {},
   "outputs": [],
   "source": [
    "my_dict={'key1':'value1', 'key2':'value2'}"
   ]
  },
  {
   "cell_type": "code",
   "execution_count": 34,
   "id": "d9a180c9",
   "metadata": {},
   "outputs": [
    {
     "data": {
      "text/plain": [
       "{'key1': 'value1', 'key2': 'value2'}"
      ]
     },
     "execution_count": 34,
     "metadata": {},
     "output_type": "execute_result"
    }
   ],
   "source": [
    "my_dict"
   ]
  },
  {
   "cell_type": "code",
   "execution_count": 35,
   "id": "1e98c6b5",
   "metadata": {},
   "outputs": [
    {
     "data": {
      "text/plain": [
       "'value1'"
      ]
     },
     "execution_count": 35,
     "metadata": {},
     "output_type": "execute_result"
    }
   ],
   "source": [
    "my_dict['key1']"
   ]
  },
  {
   "cell_type": "code",
   "execution_count": 36,
   "id": "bac0b53b",
   "metadata": {},
   "outputs": [],
   "source": [
    "prices = {'banana':25, 'petrol':115, 'rice':80, 'milk':20}"
   ]
  },
  {
   "cell_type": "code",
   "execution_count": 37,
   "id": "07771b15",
   "metadata": {},
   "outputs": [
    {
     "data": {
      "text/plain": [
       "20"
      ]
     },
     "execution_count": 37,
     "metadata": {},
     "output_type": "execute_result"
    }
   ],
   "source": [
    "prices['milk']"
   ]
  },
  {
   "cell_type": "code",
   "execution_count": 38,
   "id": "2e6568d5",
   "metadata": {},
   "outputs": [],
   "source": [
    "d={'key1':['a','b','c']}"
   ]
  },
  {
   "cell_type": "code",
   "execution_count": 39,
   "id": "64cc6701",
   "metadata": {},
   "outputs": [
    {
     "data": {
      "text/plain": [
       "{'key1': ['a', 'b', 'c']}"
      ]
     },
     "execution_count": 39,
     "metadata": {},
     "output_type": "execute_result"
    }
   ],
   "source": [
    "d"
   ]
  },
  {
   "cell_type": "code",
   "execution_count": 40,
   "id": "0822dfd6",
   "metadata": {},
   "outputs": [],
   "source": [
    "mylist=d['key1']"
   ]
  },
  {
   "cell_type": "code",
   "execution_count": 41,
   "id": "204a96a6",
   "metadata": {},
   "outputs": [
    {
     "data": {
      "text/plain": [
       "['a', 'b', 'c']"
      ]
     },
     "execution_count": 41,
     "metadata": {},
     "output_type": "execute_result"
    }
   ],
   "source": [
    "mylist"
   ]
  },
  {
   "cell_type": "code",
   "execution_count": 42,
   "id": "ce043db9",
   "metadata": {},
   "outputs": [],
   "source": [
    "letter=mylist[2]"
   ]
  },
  {
   "cell_type": "code",
   "execution_count": 43,
   "id": "729bc967",
   "metadata": {},
   "outputs": [
    {
     "data": {
      "text/plain": [
       "'c'"
      ]
     },
     "execution_count": 43,
     "metadata": {},
     "output_type": "execute_result"
    }
   ],
   "source": [
    "letter"
   ]
  },
  {
   "cell_type": "code",
   "execution_count": 44,
   "id": "37978ce8",
   "metadata": {},
   "outputs": [
    {
     "data": {
      "text/plain": [
       "'C'"
      ]
     },
     "execution_count": 44,
     "metadata": {},
     "output_type": "execute_result"
    }
   ],
   "source": [
    "letter.upper()"
   ]
  },
  {
   "cell_type": "code",
   "execution_count": 45,
   "id": "3e9e5630",
   "metadata": {},
   "outputs": [],
   "source": [
    "d={'k1':100,'k2':200}"
   ]
  },
  {
   "cell_type": "code",
   "execution_count": 46,
   "id": "40be6f3f",
   "metadata": {},
   "outputs": [
    {
     "data": {
      "text/plain": [
       "{'k1': 100, 'k2': 200}"
      ]
     },
     "execution_count": 46,
     "metadata": {},
     "output_type": "execute_result"
    }
   ],
   "source": [
    "d"
   ]
  },
  {
   "cell_type": "code",
   "execution_count": 47,
   "id": "5ff17f72",
   "metadata": {},
   "outputs": [],
   "source": [
    "d['k3']=300"
   ]
  },
  {
   "cell_type": "code",
   "execution_count": 48,
   "id": "90cbc604",
   "metadata": {},
   "outputs": [
    {
     "data": {
      "text/plain": [
       "{'k1': 100, 'k2': 200, 'k3': 300}"
      ]
     },
     "execution_count": 48,
     "metadata": {},
     "output_type": "execute_result"
    }
   ],
   "source": [
    "d"
   ]
  },
  {
   "cell_type": "code",
   "execution_count": 49,
   "id": "3a3d8401",
   "metadata": {},
   "outputs": [],
   "source": [
    "d['k1']='NEW VALUE'"
   ]
  },
  {
   "cell_type": "code",
   "execution_count": 50,
   "id": "e4392cd6",
   "metadata": {},
   "outputs": [
    {
     "data": {
      "text/plain": [
       "{'k1': 'NEW VALUE', 'k2': 200, 'k3': 300}"
      ]
     },
     "execution_count": 50,
     "metadata": {},
     "output_type": "execute_result"
    }
   ],
   "source": [
    "d"
   ]
  },
  {
   "cell_type": "code",
   "execution_count": 51,
   "id": "95d42ac4",
   "metadata": {},
   "outputs": [],
   "source": [
    "d={'k1': 100, 'k2': 200, 'k3': 300}"
   ]
  },
  {
   "cell_type": "code",
   "execution_count": 52,
   "id": "6bb6ca12",
   "metadata": {},
   "outputs": [
    {
     "data": {
      "text/plain": [
       "{'k1': 100, 'k2': 200, 'k3': 300}"
      ]
     },
     "execution_count": 52,
     "metadata": {},
     "output_type": "execute_result"
    }
   ],
   "source": [
    "d"
   ]
  },
  {
   "cell_type": "code",
   "execution_count": 53,
   "id": "693e665f",
   "metadata": {},
   "outputs": [
    {
     "data": {
      "text/plain": [
       "dict_keys(['k1', 'k2', 'k3'])"
      ]
     },
     "execution_count": 53,
     "metadata": {},
     "output_type": "execute_result"
    }
   ],
   "source": [
    "d.keys()"
   ]
  },
  {
   "cell_type": "code",
   "execution_count": 54,
   "id": "40a85ae0",
   "metadata": {},
   "outputs": [
    {
     "data": {
      "text/plain": [
       "dict_values([100, 200, 300])"
      ]
     },
     "execution_count": 54,
     "metadata": {},
     "output_type": "execute_result"
    }
   ],
   "source": [
    "d.values()"
   ]
  },
  {
   "cell_type": "code",
   "execution_count": 55,
   "id": "f64ebc48",
   "metadata": {},
   "outputs": [
    {
     "data": {
      "text/plain": [
       "dict_items([('k1', 100), ('k2', 200), ('k3', 300)])"
      ]
     },
     "execution_count": 55,
     "metadata": {},
     "output_type": "execute_result"
    }
   ],
   "source": [
    "d.items()"
   ]
  },
  {
   "cell_type": "code",
   "execution_count": 58,
   "id": "c0a2642a",
   "metadata": {},
   "outputs": [
    {
     "ename": "SyntaxError",
     "evalue": "EOL while scanning string literal (2024999889.py, line 1)",
     "output_type": "error",
     "traceback": [
      "\u001b[1;36m  File \u001b[1;32m\"C:\\Users\\Varun kapadia\\AppData\\Local\\Temp\\ipykernel_14344\\2024999889.py\"\u001b[1;36m, line \u001b[1;32m1\u001b[0m\n\u001b[1;33m    d={'k1':[1,2,3]'}\u001b[0m\n\u001b[1;37m                     ^\u001b[0m\n\u001b[1;31mSyntaxError\u001b[0m\u001b[1;31m:\u001b[0m EOL while scanning string literal\n"
     ]
    }
   ],
   "source": [
    "d={'k1':[1,2,3]'}"
   ]
  },
  {
   "cell_type": "code",
   "execution_count": 57,
   "id": "61ee8ec3",
   "metadata": {},
   "outputs": [
    {
     "data": {
      "text/plain": [
       "{'k1:[1,2,3]'}"
      ]
     },
     "execution_count": 57,
     "metadata": {},
     "output_type": "execute_result"
    }
   ],
   "source": [
    "d"
   ]
  },
  {
   "cell_type": "code",
   "execution_count": 59,
   "id": "7192257d",
   "metadata": {},
   "outputs": [],
   "source": [
    "d={'k1':[1,2,3]}"
   ]
  },
  {
   "cell_type": "code",
   "execution_count": 60,
   "id": "8f4f1107",
   "metadata": {},
   "outputs": [
    {
     "data": {
      "text/plain": [
       "{'k1': [1, 2, 3]}"
      ]
     },
     "execution_count": 60,
     "metadata": {},
     "output_type": "execute_result"
    }
   ],
   "source": [
    "d"
   ]
  },
  {
   "cell_type": "code",
   "execution_count": 61,
   "id": "60f548e3",
   "metadata": {},
   "outputs": [
    {
     "data": {
      "text/plain": [
       "2"
      ]
     },
     "execution_count": 61,
     "metadata": {},
     "output_type": "execute_result"
    }
   ],
   "source": [
    "d['k1'][1]"
   ]
  },
  {
   "cell_type": "code",
   "execution_count": 62,
   "id": "fd4b7ca0",
   "metadata": {},
   "outputs": [],
   "source": [
    "t=(1,2,3)"
   ]
  },
  {
   "cell_type": "code",
   "execution_count": 63,
   "id": "b1eff7a2",
   "metadata": {},
   "outputs": [
    {
     "data": {
      "text/plain": [
       "tuple"
      ]
     },
     "execution_count": 63,
     "metadata": {},
     "output_type": "execute_result"
    }
   ],
   "source": [
    "type(t)"
   ]
  },
  {
   "cell_type": "code",
   "execution_count": 64,
   "id": "f3d81b97",
   "metadata": {},
   "outputs": [
    {
     "data": {
      "text/plain": [
       "3"
      ]
     },
     "execution_count": 64,
     "metadata": {},
     "output_type": "execute_result"
    }
   ],
   "source": [
    "len(t)"
   ]
  },
  {
   "cell_type": "code",
   "execution_count": 65,
   "id": "1c5b170e",
   "metadata": {},
   "outputs": [],
   "source": [
    "t=('one',2)"
   ]
  },
  {
   "cell_type": "code",
   "execution_count": 66,
   "id": "ccdc6494",
   "metadata": {},
   "outputs": [
    {
     "data": {
      "text/plain": [
       "('one', 2)"
      ]
     },
     "execution_count": 66,
     "metadata": {},
     "output_type": "execute_result"
    }
   ],
   "source": [
    "t"
   ]
  },
  {
   "cell_type": "code",
   "execution_count": 67,
   "id": "017eb99d",
   "metadata": {},
   "outputs": [
    {
     "data": {
      "text/plain": [
       "'one'"
      ]
     },
     "execution_count": 67,
     "metadata": {},
     "output_type": "execute_result"
    }
   ],
   "source": [
    "t[0]"
   ]
  },
  {
   "cell_type": "code",
   "execution_count": 68,
   "id": "858d2506",
   "metadata": {},
   "outputs": [
    {
     "data": {
      "text/plain": [
       "2"
      ]
     },
     "execution_count": 68,
     "metadata": {},
     "output_type": "execute_result"
    }
   ],
   "source": [
    "t[-1]"
   ]
  },
  {
   "cell_type": "code",
   "execution_count": 69,
   "id": "c18af39c",
   "metadata": {},
   "outputs": [],
   "source": [
    "t=('a','b','b','c','c','d','d','d','d')"
   ]
  },
  {
   "cell_type": "code",
   "execution_count": 70,
   "id": "c17ee241",
   "metadata": {},
   "outputs": [
    {
     "data": {
      "text/plain": [
       "('a', 'b', 'b', 'c', 'c', 'd', 'd', 'd', 'd')"
      ]
     },
     "execution_count": 70,
     "metadata": {},
     "output_type": "execute_result"
    }
   ],
   "source": [
    "t"
   ]
  },
  {
   "cell_type": "code",
   "execution_count": 71,
   "id": "26ae5204",
   "metadata": {},
   "outputs": [
    {
     "ename": "NameError",
     "evalue": "name 'b' is not defined",
     "output_type": "error",
     "traceback": [
      "\u001b[1;31m---------------------------------------------------------------------------\u001b[0m",
      "\u001b[1;31mNameError\u001b[0m                                 Traceback (most recent call last)",
      "\u001b[1;32m~\\AppData\\Local\\Temp\\ipykernel_14344\\2554063681.py\u001b[0m in \u001b[0;36m<module>\u001b[1;34m\u001b[0m\n\u001b[1;32m----> 1\u001b[1;33m \u001b[0mt\u001b[0m\u001b[1;33m.\u001b[0m\u001b[0mcount\u001b[0m\u001b[1;33m(\u001b[0m\u001b[0mb\u001b[0m\u001b[1;33m)\u001b[0m\u001b[1;33m\u001b[0m\u001b[1;33m\u001b[0m\u001b[0m\n\u001b[0m",
      "\u001b[1;31mNameError\u001b[0m: name 'b' is not defined"
     ]
    }
   ],
   "source": [
    "t.count(b)"
   ]
  },
  {
   "cell_type": "code",
   "execution_count": 72,
   "id": "9835adae",
   "metadata": {},
   "outputs": [
    {
     "data": {
      "text/plain": [
       "2"
      ]
     },
     "execution_count": 72,
     "metadata": {},
     "output_type": "execute_result"
    }
   ],
   "source": [
    "t.count('b')"
   ]
  },
  {
   "cell_type": "code",
   "execution_count": 73,
   "id": "f0ff12b2",
   "metadata": {},
   "outputs": [
    {
     "data": {
      "text/plain": [
       "4"
      ]
     },
     "execution_count": 73,
     "metadata": {},
     "output_type": "execute_result"
    }
   ],
   "source": [
    "t.count('d')"
   ]
  },
  {
   "cell_type": "code",
   "execution_count": 74,
   "id": "235e81d0",
   "metadata": {},
   "outputs": [
    {
     "data": {
      "text/plain": [
       "3"
      ]
     },
     "execution_count": 74,
     "metadata": {},
     "output_type": "execute_result"
    }
   ],
   "source": [
    "t.index('c')"
   ]
  },
  {
   "cell_type": "code",
   "execution_count": 1,
   "id": "fde21a7c",
   "metadata": {},
   "outputs": [],
   "source": [
    "myset = set()"
   ]
  },
  {
   "cell_type": "code",
   "execution_count": 2,
   "id": "dc9142c4",
   "metadata": {},
   "outputs": [
    {
     "data": {
      "text/plain": [
       "set()"
      ]
     },
     "execution_count": 2,
     "metadata": {},
     "output_type": "execute_result"
    }
   ],
   "source": [
    "myset"
   ]
  },
  {
   "cell_type": "code",
   "execution_count": 3,
   "id": "83961199",
   "metadata": {},
   "outputs": [],
   "source": [
    "myset.add(1)"
   ]
  },
  {
   "cell_type": "code",
   "execution_count": 4,
   "id": "935ecb70",
   "metadata": {},
   "outputs": [
    {
     "data": {
      "text/plain": [
       "{1}"
      ]
     },
     "execution_count": 4,
     "metadata": {},
     "output_type": "execute_result"
    }
   ],
   "source": [
    "myset"
   ]
  },
  {
   "cell_type": "code",
   "execution_count": 5,
   "id": "60f43159",
   "metadata": {},
   "outputs": [
    {
     "ename": "TypeError",
     "evalue": "'set' object is not callable",
     "output_type": "error",
     "traceback": [
      "\u001b[1;31m---------------------------------------------------------------------------\u001b[0m",
      "\u001b[1;31mTypeError\u001b[0m                                 Traceback (most recent call last)",
      "\u001b[1;32m~\\AppData\\Local\\Temp\\ipykernel_22668\\493338295.py\u001b[0m in \u001b[0;36m<module>\u001b[1;34m\u001b[0m\n\u001b[1;32m----> 1\u001b[1;33m \u001b[0mmyset\u001b[0m\u001b[1;33m(\u001b[0m\u001b[1;36m2\u001b[0m\u001b[1;33m)\u001b[0m\u001b[1;33m\u001b[0m\u001b[1;33m\u001b[0m\u001b[0m\n\u001b[0m",
      "\u001b[1;31mTypeError\u001b[0m: 'set' object is not callable"
     ]
    }
   ],
   "source": [
    "myset(2)"
   ]
  },
  {
   "cell_type": "code",
   "execution_count": 6,
   "id": "1ac93b56",
   "metadata": {},
   "outputs": [],
   "source": [
    "myset.add(2)"
   ]
  },
  {
   "cell_type": "code",
   "execution_count": 7,
   "id": "75d06981",
   "metadata": {},
   "outputs": [
    {
     "data": {
      "text/plain": [
       "{1, 2}"
      ]
     },
     "execution_count": 7,
     "metadata": {},
     "output_type": "execute_result"
    }
   ],
   "source": [
    "myset"
   ]
  },
  {
   "cell_type": "code",
   "execution_count": 8,
   "id": "1dea16a1",
   "metadata": {},
   "outputs": [],
   "source": [
    "mylist=[1,1,1,1,1,2,2,2,2,2,3,3,3,3,3]"
   ]
  },
  {
   "cell_type": "code",
   "execution_count": 9,
   "id": "4e96965d",
   "metadata": {},
   "outputs": [
    {
     "data": {
      "text/plain": [
       "[1, 1, 1, 1, 1, 2, 2, 2, 2, 2, 3, 3, 3, 3, 3]"
      ]
     },
     "execution_count": 9,
     "metadata": {},
     "output_type": "execute_result"
    }
   ],
   "source": [
    "mylist"
   ]
  },
  {
   "cell_type": "code",
   "execution_count": 10,
   "id": "09eb2683",
   "metadata": {},
   "outputs": [
    {
     "data": {
      "text/plain": [
       "{1, 2, 3}"
      ]
     },
     "execution_count": 10,
     "metadata": {},
     "output_type": "execute_result"
    }
   ],
   "source": [
    "set(mylist)"
   ]
  },
  {
   "cell_type": "code",
   "execution_count": 11,
   "id": "73660698",
   "metadata": {},
   "outputs": [
    {
     "data": {
      "text/plain": [
       "True"
      ]
     },
     "execution_count": 11,
     "metadata": {},
     "output_type": "execute_result"
    }
   ],
   "source": [
    "True"
   ]
  },
  {
   "cell_type": "code",
   "execution_count": 12,
   "id": "3b000734",
   "metadata": {},
   "outputs": [
    {
     "data": {
      "text/plain": [
       "bool"
      ]
     },
     "execution_count": 12,
     "metadata": {},
     "output_type": "execute_result"
    }
   ],
   "source": [
    "type(True)"
   ]
  },
  {
   "cell_type": "code",
   "execution_count": 13,
   "id": "20dec68f",
   "metadata": {},
   "outputs": [
    {
     "data": {
      "text/plain": [
       "False"
      ]
     },
     "execution_count": 13,
     "metadata": {},
     "output_type": "execute_result"
    }
   ],
   "source": [
    "1>2"
   ]
  },
  {
   "cell_type": "code",
   "execution_count": 14,
   "id": "cb73fb3b",
   "metadata": {},
   "outputs": [
    {
     "data": {
      "text/plain": [
       "False"
      ]
     },
     "execution_count": 14,
     "metadata": {},
     "output_type": "execute_result"
    }
   ],
   "source": [
    "2==3"
   ]
  },
  {
   "cell_type": "code",
   "execution_count": 15,
   "id": "b496933e",
   "metadata": {},
   "outputs": [
    {
     "ename": "SyntaxError",
     "evalue": "cannot assign to literal (3797959448.py, line 1)",
     "output_type": "error",
     "traceback": [
      "\u001b[1;36m  File \u001b[1;32m\"C:\\Users\\Varun kapadia\\AppData\\Local\\Temp\\ipykernel_22668\\3797959448.py\"\u001b[1;36m, line \u001b[1;32m1\u001b[0m\n\u001b[1;33m    2=3\u001b[0m\n\u001b[1;37m    ^\u001b[0m\n\u001b[1;31mSyntaxError\u001b[0m\u001b[1;31m:\u001b[0m cannot assign to literal\n"
     ]
    }
   ],
   "source": [
    "2=3"
   ]
  },
  {
   "cell_type": "code",
   "execution_count": 16,
   "id": "90d2efb1",
   "metadata": {},
   "outputs": [
    {
     "data": {
      "text/plain": [
       "True"
      ]
     },
     "execution_count": 16,
     "metadata": {},
     "output_type": "execute_result"
    }
   ],
   "source": [
    "4>2"
   ]
  },
  {
   "cell_type": "code",
   "execution_count": 17,
   "id": "05240d18",
   "metadata": {},
   "outputs": [],
   "source": [
    "a=None"
   ]
  },
  {
   "cell_type": "code",
   "execution_count": 18,
   "id": "9db74e0a",
   "metadata": {},
   "outputs": [],
   "source": [
    "a"
   ]
  },
  {
   "cell_type": "code",
   "execution_count": 19,
   "id": "09fdda3c",
   "metadata": {},
   "outputs": [
    {
     "data": {
      "text/plain": [
       "NoneType"
      ]
     },
     "execution_count": 19,
     "metadata": {},
     "output_type": "execute_result"
    }
   ],
   "source": [
    "type(a)"
   ]
  },
  {
   "cell_type": "code",
   "execution_count": 20,
   "id": "6bb97049",
   "metadata": {},
   "outputs": [
    {
     "data": {
      "text/plain": [
       "{1, 2, 3}"
      ]
     },
     "execution_count": 20,
     "metadata": {},
     "output_type": "execute_result"
    }
   ],
   "source": [
    "set([1,1,2,3])"
   ]
  },
  {
   "cell_type": "code",
   "execution_count": 21,
   "id": "9515ffa8",
   "metadata": {},
   "outputs": [
    {
     "name": "stdout",
     "output_type": "stream",
     "text": [
      "Writing myfile.txt\n"
     ]
    }
   ],
   "source": [
    "%%writefile myfile.txt\n",
    "Hello World! My name is Varun\n",
    "I am 30 years old\n",
    "I belong from India"
   ]
  },
  {
   "cell_type": "code",
   "execution_count": 22,
   "id": "1328db76",
   "metadata": {},
   "outputs": [
    {
     "ename": "NameError",
     "evalue": "name 'myfile' is not defined",
     "output_type": "error",
     "traceback": [
      "\u001b[1;31m---------------------------------------------------------------------------\u001b[0m",
      "\u001b[1;31mNameError\u001b[0m                                 Traceback (most recent call last)",
      "\u001b[1;32m~\\AppData\\Local\\Temp\\ipykernel_22668\\2748496086.py\u001b[0m in \u001b[0;36m<module>\u001b[1;34m\u001b[0m\n\u001b[1;32m----> 1\u001b[1;33m \u001b[0mmyfile\u001b[0m\u001b[1;33m=\u001b[0m\u001b[0mopen\u001b[0m\u001b[1;33m(\u001b[0m\u001b[0mmyfile\u001b[0m\u001b[1;33m.\u001b[0m\u001b[0mtxt\u001b[0m\u001b[1;33m)\u001b[0m\u001b[1;33m\u001b[0m\u001b[1;33m\u001b[0m\u001b[0m\n\u001b[0m",
      "\u001b[1;31mNameError\u001b[0m: name 'myfile' is not defined"
     ]
    }
   ],
   "source": [
    "myfile=open(myfile.txt)"
   ]
  },
  {
   "cell_type": "code",
   "execution_count": 23,
   "id": "12bcd26f",
   "metadata": {},
   "outputs": [],
   "source": [
    "myfile=open('myfile.txt')"
   ]
  },
  {
   "cell_type": "code",
   "execution_count": 24,
   "id": "6c36374f",
   "metadata": {},
   "outputs": [
    {
     "data": {
      "text/plain": [
       "'C:\\\\Users\\\\Varun kapadia\\\\Desktop'"
      ]
     },
     "execution_count": 24,
     "metadata": {},
     "output_type": "execute_result"
    }
   ],
   "source": [
    "pwd"
   ]
  },
  {
   "cell_type": "code",
   "execution_count": 25,
   "id": "72bc1a54",
   "metadata": {},
   "outputs": [
    {
     "data": {
      "text/plain": [
       "<function TextIOWrapper.read(size=-1, /)>"
      ]
     },
     "execution_count": 25,
     "metadata": {},
     "output_type": "execute_result"
    }
   ],
   "source": [
    "myfile.read"
   ]
  },
  {
   "cell_type": "code",
   "execution_count": 26,
   "id": "fccf5287",
   "metadata": {},
   "outputs": [
    {
     "data": {
      "text/plain": [
       "'Hello World! My name is Varun\\nI am 30 years old\\nI belong from India\\n'"
      ]
     },
     "execution_count": 26,
     "metadata": {},
     "output_type": "execute_result"
    }
   ],
   "source": [
    "myfile.read()"
   ]
  },
  {
   "cell_type": "code",
   "execution_count": 27,
   "id": "de14e3ca",
   "metadata": {},
   "outputs": [
    {
     "data": {
      "text/plain": [
       "''"
      ]
     },
     "execution_count": 27,
     "metadata": {},
     "output_type": "execute_result"
    }
   ],
   "source": [
    "myfile.read()"
   ]
  },
  {
   "cell_type": "code",
   "execution_count": 28,
   "id": "674fd81d",
   "metadata": {},
   "outputs": [
    {
     "data": {
      "text/plain": [
       "0"
      ]
     },
     "execution_count": 28,
     "metadata": {},
     "output_type": "execute_result"
    }
   ],
   "source": [
    "myfile.seek(0)"
   ]
  },
  {
   "cell_type": "code",
   "execution_count": 29,
   "id": "95b490a1",
   "metadata": {},
   "outputs": [
    {
     "data": {
      "text/plain": [
       "'Hello World! My name is Varun\\nI am 30 years old\\nI belong from India\\n'"
      ]
     },
     "execution_count": 29,
     "metadata": {},
     "output_type": "execute_result"
    }
   ],
   "source": [
    "myfile.read()"
   ]
  },
  {
   "cell_type": "code",
   "execution_count": 30,
   "id": "0493c7dd",
   "metadata": {},
   "outputs": [
    {
     "data": {
      "text/plain": [
       "0"
      ]
     },
     "execution_count": 30,
     "metadata": {},
     "output_type": "execute_result"
    }
   ],
   "source": [
    "myfile.seek(0)"
   ]
  },
  {
   "cell_type": "code",
   "execution_count": 31,
   "id": "d72548b6",
   "metadata": {},
   "outputs": [
    {
     "data": {
      "text/plain": [
       "['Hello World! My name is Varun\\n',\n",
       " 'I am 30 years old\\n',\n",
       " 'I belong from India\\n']"
      ]
     },
     "execution_count": 31,
     "metadata": {},
     "output_type": "execute_result"
    }
   ],
   "source": [
    "myfile.readlines()"
   ]
  },
  {
   "cell_type": "code",
   "execution_count": 32,
   "id": "cb9dfd87",
   "metadata": {},
   "outputs": [],
   "source": [
    "myfile.close()"
   ]
  },
  {
   "cell_type": "code",
   "execution_count": 33,
   "id": "bc5dec73",
   "metadata": {},
   "outputs": [
    {
     "ename": "NameError",
     "evalue": "name 'my_text_file' is not defined",
     "output_type": "error",
     "traceback": [
      "\u001b[1;31m---------------------------------------------------------------------------\u001b[0m",
      "\u001b[1;31mNameError\u001b[0m                                 Traceback (most recent call last)",
      "\u001b[1;32m~\\AppData\\Local\\Temp\\ipykernel_22668\\3061418985.py\u001b[0m in \u001b[0;36m<module>\u001b[1;34m\u001b[0m\n\u001b[0;32m      1\u001b[0m \u001b[1;32mwith\u001b[0m \u001b[0mopen\u001b[0m\u001b[1;33m(\u001b[0m\u001b[1;34m'myfile.txt'\u001b[0m\u001b[1;33m)\u001b[0m \u001b[1;32mas\u001b[0m \u001b[0mmy_new_file\u001b[0m\u001b[1;33m:\u001b[0m\u001b[1;33m\u001b[0m\u001b[1;33m\u001b[0m\u001b[0m\n\u001b[1;32m----> 2\u001b[1;33m     \u001b[0mcontents\u001b[0m\u001b[1;33m=\u001b[0m\u001b[0mmy_text_file\u001b[0m\u001b[1;33m.\u001b[0m\u001b[0mread\u001b[0m\u001b[1;33m(\u001b[0m\u001b[1;33m)\u001b[0m\u001b[1;33m\u001b[0m\u001b[1;33m\u001b[0m\u001b[0m\n\u001b[0m",
      "\u001b[1;31mNameError\u001b[0m: name 'my_text_file' is not defined"
     ]
    }
   ],
   "source": [
    "with open('myfile.txt') as my_new_file:\n",
    "    contents=my_text_file.read()"
   ]
  },
  {
   "cell_type": "code",
   "execution_count": 34,
   "id": "3590208b",
   "metadata": {},
   "outputs": [],
   "source": [
    "with open('myfile.txt')as my_new_file:\n",
    "    contents=my_new_file.read()"
   ]
  },
  {
   "cell_type": "code",
   "execution_count": 35,
   "id": "5dcc285d",
   "metadata": {},
   "outputs": [
    {
     "data": {
      "text/plain": [
       "'Hello World! My name is Varun\\nI am 30 years old\\nI belong from India\\n'"
      ]
     },
     "execution_count": 35,
     "metadata": {},
     "output_type": "execute_result"
    }
   ],
   "source": [
    "contents"
   ]
  },
  {
   "cell_type": "code",
   "execution_count": 36,
   "id": "06eb6c68",
   "metadata": {},
   "outputs": [
    {
     "name": "stdout",
     "output_type": "stream",
     "text": [
      "Writing my_only_file.txt\n"
     ]
    }
   ],
   "source": [
    "%%writefile my_only_file.txt\n",
    "Ill be there\n",
    "for you\n",
    "only for you"
   ]
  },
  {
   "cell_type": "code",
   "execution_count": 37,
   "id": "74b03ec8",
   "metadata": {},
   "outputs": [
    {
     "ename": "NameError",
     "evalue": "name 'my_only_file' is not defined",
     "output_type": "error",
     "traceback": [
      "\u001b[1;31m---------------------------------------------------------------------------\u001b[0m",
      "\u001b[1;31mNameError\u001b[0m                                 Traceback (most recent call last)",
      "\u001b[1;32m~\\AppData\\Local\\Temp\\ipykernel_22668\\2104447860.py\u001b[0m in \u001b[0;36m<module>\u001b[1;34m\u001b[0m\n\u001b[1;32m----> 1\u001b[1;33m \u001b[1;32mwith\u001b[0m \u001b[0mopen\u001b[0m\u001b[1;33m(\u001b[0m\u001b[0mmy_only_file\u001b[0m\u001b[1;33m.\u001b[0m\u001b[0mtxt\u001b[0m\u001b[1;33m,\u001b[0m \u001b[0mmode\u001b[0m\u001b[1;33m=\u001b[0m\u001b[1;34m'r'\u001b[0m\u001b[1;33m)\u001b[0m\u001b[1;32mas\u001b[0m \u001b[0mf\u001b[0m\u001b[1;33m:\u001b[0m\u001b[1;33m\u001b[0m\u001b[1;33m\u001b[0m\u001b[0m\n\u001b[0m\u001b[0;32m      2\u001b[0m     \u001b[0mprint\u001b[0m\u001b[1;33m(\u001b[0m\u001b[0mf\u001b[0m\u001b[1;33m.\u001b[0m\u001b[0mread\u001b[0m\u001b[1;33m(\u001b[0m\u001b[1;33m)\u001b[0m\u001b[1;33m)\u001b[0m\u001b[1;33m\u001b[0m\u001b[1;33m\u001b[0m\u001b[0m\n",
      "\u001b[1;31mNameError\u001b[0m: name 'my_only_file' is not defined"
     ]
    }
   ],
   "source": [
    "with open(my_only_file.txt, mode='r')as f:\n",
    "    print(f.read())"
   ]
  },
  {
   "cell_type": "code",
   "execution_count": 38,
   "id": "34714e7a",
   "metadata": {},
   "outputs": [
    {
     "name": "stdout",
     "output_type": "stream",
     "text": [
      "Ill be there\n",
      "for you\n",
      "only for you\n",
      "\n"
     ]
    }
   ],
   "source": [
    "with open('my_only_file.txt', mode='r')as f:\n",
    "    print(f.read())"
   ]
  },
  {
   "cell_type": "code",
   "execution_count": 39,
   "id": "5e7bf538",
   "metadata": {},
   "outputs": [],
   "source": [
    "with open('my_only_file.txt', mode='a')as f:\n",
    "    f.write('because I love you')"
   ]
  },
  {
   "cell_type": "code",
   "execution_count": 40,
   "id": "3956aa15",
   "metadata": {},
   "outputs": [
    {
     "name": "stdout",
     "output_type": "stream",
     "text": [
      "Ill be there\n",
      "for you\n",
      "only for you\n",
      "because I love you\n"
     ]
    }
   ],
   "source": [
    "with open('my_only_file.txt', mode='r')as f:\n",
    "    print(f.read())"
   ]
  },
  {
   "cell_type": "code",
   "execution_count": 41,
   "id": "848d0084",
   "metadata": {},
   "outputs": [],
   "source": [
    "with open('adbjadkasdua.txt', mode='w')as f:\n",
    "    f.write('I can do this')"
   ]
  },
  {
   "cell_type": "code",
   "execution_count": 42,
   "id": "967edc3f",
   "metadata": {},
   "outputs": [
    {
     "ename": "FileNotFoundError",
     "evalue": "[Errno 2] No such file or directory: 'abdjadkasdua.txt'",
     "output_type": "error",
     "traceback": [
      "\u001b[1;31m---------------------------------------------------------------------------\u001b[0m",
      "\u001b[1;31mFileNotFoundError\u001b[0m                         Traceback (most recent call last)",
      "\u001b[1;32m~\\AppData\\Local\\Temp\\ipykernel_22668\\3949568943.py\u001b[0m in \u001b[0;36m<module>\u001b[1;34m\u001b[0m\n\u001b[1;32m----> 1\u001b[1;33m \u001b[1;32mwith\u001b[0m \u001b[0mopen\u001b[0m\u001b[1;33m(\u001b[0m\u001b[1;34m'abdjadkasdua.txt'\u001b[0m\u001b[1;33m,\u001b[0m \u001b[0mmode\u001b[0m\u001b[1;33m=\u001b[0m\u001b[1;34m'r'\u001b[0m\u001b[1;33m)\u001b[0m\u001b[1;32mas\u001b[0m \u001b[0mf\u001b[0m\u001b[1;33m:\u001b[0m\u001b[1;33m\u001b[0m\u001b[1;33m\u001b[0m\u001b[0m\n\u001b[0m\u001b[0;32m      2\u001b[0m     \u001b[0mprint\u001b[0m\u001b[1;33m(\u001b[0m\u001b[0mf\u001b[0m\u001b[1;33m.\u001b[0m\u001b[0mread\u001b[0m\u001b[1;33m(\u001b[0m\u001b[1;33m)\u001b[0m\u001b[1;33m)\u001b[0m\u001b[1;33m\u001b[0m\u001b[1;33m\u001b[0m\u001b[0m\n",
      "\u001b[1;31mFileNotFoundError\u001b[0m: [Errno 2] No such file or directory: 'abdjadkasdua.txt'"
     ]
    }
   ],
   "source": [
    "with open('abdjadkasdua.txt', mode='r')as f:\n",
    "    print(f.read())"
   ]
  },
  {
   "cell_type": "code",
   "execution_count": 1,
   "id": "1efad357",
   "metadata": {},
   "outputs": [
    {
     "ename": "TypeError",
     "evalue": "set expected at most 1 argument, got 4",
     "output_type": "error",
     "traceback": [
      "\u001b[1;31m---------------------------------------------------------------------------\u001b[0m",
      "\u001b[1;31mTypeError\u001b[0m                                 Traceback (most recent call last)",
      "\u001b[1;32m~\\AppData\\Local\\Temp\\ipykernel_17080\\34937644.py\u001b[0m in \u001b[0;36m<module>\u001b[1;34m\u001b[0m\n\u001b[1;32m----> 1\u001b[1;33m \u001b[0mset\u001b[0m\u001b[1;33m(\u001b[0m\u001b[1;36m1\u001b[0m\u001b[1;33m,\u001b[0m\u001b[1;36m2\u001b[0m\u001b[1;33m,\u001b[0m\u001b[1;36m3.6\u001b[0m\u001b[1;33m,\u001b[0m\u001b[1;34m'ahoai'\u001b[0m\u001b[1;33m)\u001b[0m\u001b[1;33m\u001b[0m\u001b[1;33m\u001b[0m\u001b[0m\n\u001b[0m",
      "\u001b[1;31mTypeError\u001b[0m: set expected at most 1 argument, got 4"
     ]
    }
   ],
   "source": [
    "set(1,2,3.6,'ahoai')"
   ]
  },
  {
   "cell_type": "code",
   "execution_count": 2,
   "id": "0d8fb96f",
   "metadata": {},
   "outputs": [
    {
     "data": {
      "text/plain": [
       "set[1, 2, 3.6, 'hello']"
      ]
     },
     "execution_count": 2,
     "metadata": {},
     "output_type": "execute_result"
    }
   ],
   "source": [
    "set[1,2,3.6,'hello']"
   ]
  },
  {
   "cell_type": "code",
   "execution_count": 3,
   "id": "8f63cf3e",
   "metadata": {},
   "outputs": [
    {
     "data": {
      "text/plain": [
       "list[1, 2, 4.5, 'hi']"
      ]
     },
     "execution_count": 3,
     "metadata": {},
     "output_type": "execute_result"
    }
   ],
   "source": [
    "list[1,2,4.5,'hi']"
   ]
  },
  {
   "cell_type": "code",
   "execution_count": 4,
   "id": "a211b868",
   "metadata": {},
   "outputs": [
    {
     "name": "stdout",
     "output_type": "stream",
     "text": [
      "<class 'type'>\n"
     ]
    }
   ],
   "source": [
    "print(type(list))"
   ]
  },
  {
   "cell_type": "code",
   "execution_count": 5,
   "id": "a8840e77",
   "metadata": {},
   "outputs": [
    {
     "data": {
      "text/plain": [
       "type"
      ]
     },
     "execution_count": 5,
     "metadata": {},
     "output_type": "execute_result"
    }
   ],
   "source": [
    "type(list)"
   ]
  },
  {
   "cell_type": "code",
   "execution_count": 6,
   "id": "e0ff7d50",
   "metadata": {},
   "outputs": [],
   "source": [
    "list=[1,2,5.5,'Hello']"
   ]
  },
  {
   "cell_type": "code",
   "execution_count": 7,
   "id": "91ca1ef0",
   "metadata": {},
   "outputs": [
    {
     "data": {
      "text/plain": [
       "list"
      ]
     },
     "execution_count": 7,
     "metadata": {},
     "output_type": "execute_result"
    }
   ],
   "source": [
    "type(list)"
   ]
  },
  {
   "cell_type": "code",
   "execution_count": 8,
   "id": "4549adce",
   "metadata": {},
   "outputs": [],
   "source": [
    "list.append(2)"
   ]
  },
  {
   "cell_type": "code",
   "execution_count": 9,
   "id": "5d2010c8",
   "metadata": {},
   "outputs": [
    {
     "data": {
      "text/plain": [
       "[1, 2, 5.5, 'Hello', 2]"
      ]
     },
     "execution_count": 9,
     "metadata": {},
     "output_type": "execute_result"
    }
   ],
   "source": [
    "list"
   ]
  },
  {
   "cell_type": "code",
   "execution_count": 10,
   "id": "ae809efc",
   "metadata": {},
   "outputs": [
    {
     "data": {
      "text/plain": [
       "'Hello'"
      ]
     },
     "execution_count": 10,
     "metadata": {},
     "output_type": "execute_result"
    }
   ],
   "source": [
    "list.pop(3)"
   ]
  },
  {
   "cell_type": "code",
   "execution_count": 11,
   "id": "367add32",
   "metadata": {},
   "outputs": [
    {
     "data": {
      "text/plain": [
       "[1, 2, 5.5, 2]"
      ]
     },
     "execution_count": 11,
     "metadata": {},
     "output_type": "execute_result"
    }
   ],
   "source": [
    "list"
   ]
  },
  {
   "cell_type": "code",
   "execution_count": 12,
   "id": "8b9ecece",
   "metadata": {},
   "outputs": [
    {
     "name": "stdout",
     "output_type": "stream",
     "text": [
      "1\n"
     ]
    }
   ],
   "source": [
    "print(list[0])"
   ]
  },
  {
   "cell_type": "code",
   "execution_count": 13,
   "id": "69528d8f",
   "metadata": {},
   "outputs": [
    {
     "name": "stdout",
     "output_type": "stream",
     "text": [
      "[1, 2]\n"
     ]
    }
   ],
   "source": [
    "print(list[:2])"
   ]
  },
  {
   "cell_type": "code",
   "execution_count": 14,
   "id": "9371c332",
   "metadata": {},
   "outputs": [
    {
     "name": "stdout",
     "output_type": "stream",
     "text": [
      "5.5\n"
     ]
    }
   ],
   "source": [
    "print(list[-2])"
   ]
  },
  {
   "cell_type": "code",
   "execution_count": 15,
   "id": "64b249d7",
   "metadata": {},
   "outputs": [
    {
     "name": "stdout",
     "output_type": "stream",
     "text": [
      "[2, 5.5, 2]\n"
     ]
    }
   ],
   "source": [
    "print(list[1:5])"
   ]
  },
  {
   "cell_type": "code",
   "execution_count": 16,
   "id": "e93e2cfe",
   "metadata": {},
   "outputs": [
    {
     "ename": "TypeError",
     "evalue": "list indices must be integers or slices, not float",
     "output_type": "error",
     "traceback": [
      "\u001b[1;31m---------------------------------------------------------------------------\u001b[0m",
      "\u001b[1;31mTypeError\u001b[0m                                 Traceback (most recent call last)",
      "\u001b[1;32m~\\AppData\\Local\\Temp\\ipykernel_17080\\1527370049.py\u001b[0m in \u001b[0;36m<module>\u001b[1;34m\u001b[0m\n\u001b[1;32m----> 1\u001b[1;33m \u001b[0mlist\u001b[0m\u001b[1;33m[\u001b[0m\u001b[1;36m5.5\u001b[0m\u001b[1;33m]\u001b[0m\u001b[1;33m=\u001b[0m\u001b[1;36m3\u001b[0m\u001b[1;33m\u001b[0m\u001b[1;33m\u001b[0m\u001b[0m\n\u001b[0m",
      "\u001b[1;31mTypeError\u001b[0m: list indices must be integers or slices, not float"
     ]
    }
   ],
   "source": [
    "list[5.5]=3"
   ]
  },
  {
   "cell_type": "code",
   "execution_count": 17,
   "id": "8d8e3d06",
   "metadata": {},
   "outputs": [
    {
     "data": {
      "text/plain": [
       "[1, 2, 5.5, 2]"
      ]
     },
     "execution_count": 17,
     "metadata": {},
     "output_type": "execute_result"
    }
   ],
   "source": [
    "list"
   ]
  },
  {
   "cell_type": "code",
   "execution_count": 18,
   "id": "28ce1936",
   "metadata": {},
   "outputs": [
    {
     "ename": "TypeError",
     "evalue": "list indices must be integers or slices, not float",
     "output_type": "error",
     "traceback": [
      "\u001b[1;31m---------------------------------------------------------------------------\u001b[0m",
      "\u001b[1;31mTypeError\u001b[0m                                 Traceback (most recent call last)",
      "\u001b[1;32m~\\AppData\\Local\\Temp\\ipykernel_17080\\1527370049.py\u001b[0m in \u001b[0;36m<module>\u001b[1;34m\u001b[0m\n\u001b[1;32m----> 1\u001b[1;33m \u001b[0mlist\u001b[0m\u001b[1;33m[\u001b[0m\u001b[1;36m5.5\u001b[0m\u001b[1;33m]\u001b[0m\u001b[1;33m=\u001b[0m\u001b[1;36m3\u001b[0m\u001b[1;33m\u001b[0m\u001b[1;33m\u001b[0m\u001b[0m\n\u001b[0m",
      "\u001b[1;31mTypeError\u001b[0m: list indices must be integers or slices, not float"
     ]
    }
   ],
   "source": [
    "list[5.5]=3"
   ]
  },
  {
   "cell_type": "code",
   "execution_count": 19,
   "id": "e62ac531",
   "metadata": {},
   "outputs": [],
   "source": [
    "list[2]=3"
   ]
  },
  {
   "cell_type": "code",
   "execution_count": 20,
   "id": "bc162f78",
   "metadata": {},
   "outputs": [
    {
     "data": {
      "text/plain": [
       "[1, 2, 3, 2]"
      ]
     },
     "execution_count": 20,
     "metadata": {},
     "output_type": "execute_result"
    }
   ],
   "source": [
    "list"
   ]
  },
  {
   "cell_type": "code",
   "execution_count": 21,
   "id": "f1de5209",
   "metadata": {},
   "outputs": [],
   "source": [
    "list[3]=4"
   ]
  },
  {
   "cell_type": "code",
   "execution_count": 22,
   "id": "5606133c",
   "metadata": {},
   "outputs": [
    {
     "data": {
      "text/plain": [
       "[1, 2, 3, 4]"
      ]
     },
     "execution_count": 22,
     "metadata": {},
     "output_type": "execute_result"
    }
   ],
   "source": [
    "list"
   ]
  },
  {
   "cell_type": "code",
   "execution_count": 1,
   "id": "20ea1152",
   "metadata": {},
   "outputs": [],
   "source": [
    "list=[2,4,6,7.8,'good']"
   ]
  },
  {
   "cell_type": "code",
   "execution_count": 2,
   "id": "34ea3fe5",
   "metadata": {},
   "outputs": [],
   "source": [
    "list[3]=8"
   ]
  },
  {
   "cell_type": "code",
   "execution_count": 3,
   "id": "1ea9b7b1",
   "metadata": {},
   "outputs": [
    {
     "data": {
      "text/plain": [
       "[2, 4, 6, 8, 'good']"
      ]
     },
     "execution_count": 3,
     "metadata": {},
     "output_type": "execute_result"
    }
   ],
   "source": [
    "list"
   ]
  },
  {
   "cell_type": "code",
   "execution_count": 4,
   "id": "9d313513",
   "metadata": {},
   "outputs": [],
   "source": [
    "list.append(10)"
   ]
  },
  {
   "cell_type": "code",
   "execution_count": 5,
   "id": "80723d0f",
   "metadata": {},
   "outputs": [
    {
     "data": {
      "text/plain": [
       "[2, 4, 6, 8, 'good', 10]"
      ]
     },
     "execution_count": 5,
     "metadata": {},
     "output_type": "execute_result"
    }
   ],
   "source": [
    "list"
   ]
  },
  {
   "cell_type": "code",
   "execution_count": 6,
   "id": "2ea3c162",
   "metadata": {},
   "outputs": [
    {
     "data": {
      "text/plain": [
       "'good'"
      ]
     },
     "execution_count": 6,
     "metadata": {},
     "output_type": "execute_result"
    }
   ],
   "source": [
    "list.pop(4)"
   ]
  },
  {
   "cell_type": "code",
   "execution_count": 7,
   "id": "fdf85aee",
   "metadata": {},
   "outputs": [
    {
     "data": {
      "text/plain": [
       "[2, 4, 6, 8, 10]"
      ]
     },
     "execution_count": 7,
     "metadata": {},
     "output_type": "execute_result"
    }
   ],
   "source": [
    "list"
   ]
  },
  {
   "cell_type": "code",
   "execution_count": 8,
   "id": "afd1a30f",
   "metadata": {},
   "outputs": [
    {
     "name": "stdout",
     "output_type": "stream",
     "text": [
      "[2, 4, 6, 8, 10]\n"
     ]
    }
   ],
   "source": [
    "print(list)"
   ]
  },
  {
   "cell_type": "code",
   "execution_count": 9,
   "id": "e79fa5a3",
   "metadata": {},
   "outputs": [],
   "source": [
    "list=[3,1,2,7,5,6,10,9,8]"
   ]
  },
  {
   "cell_type": "code",
   "execution_count": 10,
   "id": "22692f73",
   "metadata": {},
   "outputs": [
    {
     "name": "stdout",
     "output_type": "stream",
     "text": [
      "[3, 1, 2, 7, 5, 6, 10, 9, 8]\n"
     ]
    }
   ],
   "source": [
    "print(list)"
   ]
  },
  {
   "cell_type": "code",
   "execution_count": 11,
   "id": "277112ea",
   "metadata": {},
   "outputs": [],
   "source": [
    "list.sort()"
   ]
  },
  {
   "cell_type": "code",
   "execution_count": 12,
   "id": "7d9e8f86",
   "metadata": {},
   "outputs": [
    {
     "data": {
      "text/plain": [
       "[1, 2, 3, 5, 6, 7, 8, 9, 10]"
      ]
     },
     "execution_count": 12,
     "metadata": {},
     "output_type": "execute_result"
    }
   ],
   "source": [
    "list"
   ]
  },
  {
   "cell_type": "code",
   "execution_count": 13,
   "id": "96745157",
   "metadata": {},
   "outputs": [],
   "source": [
    "list.reverse()"
   ]
  },
  {
   "cell_type": "code",
   "execution_count": 14,
   "id": "114e7728",
   "metadata": {},
   "outputs": [
    {
     "data": {
      "text/plain": [
       "[10, 9, 8, 7, 6, 5, 3, 2, 1]"
      ]
     },
     "execution_count": 14,
     "metadata": {},
     "output_type": "execute_result"
    }
   ],
   "source": [
    "list"
   ]
  },
  {
   "cell_type": "code",
   "execution_count": 15,
   "id": "2b10bfc1",
   "metadata": {},
   "outputs": [],
   "source": [
    "t=(1,2,3,4,5,6)"
   ]
  },
  {
   "cell_type": "code",
   "execution_count": 16,
   "id": "c0909872",
   "metadata": {},
   "outputs": [
    {
     "data": {
      "text/plain": [
       "tuple"
      ]
     },
     "execution_count": 16,
     "metadata": {},
     "output_type": "execute_result"
    }
   ],
   "source": [
    "type(t)"
   ]
  },
  {
   "cell_type": "code",
   "execution_count": 17,
   "id": "b98b63ec",
   "metadata": {},
   "outputs": [
    {
     "name": "stdout",
     "output_type": "stream",
     "text": [
      "(1, 2, 3, 4, 5, 6)\n"
     ]
    }
   ],
   "source": [
    "print(t)"
   ]
  },
  {
   "cell_type": "code",
   "execution_count": 18,
   "id": "d88cdcd9",
   "metadata": {},
   "outputs": [],
   "source": [
    "t1=({1,2,3,4,4,5,5,5,7,8,2,2,1,1,1,})"
   ]
  },
  {
   "cell_type": "code",
   "execution_count": 19,
   "id": "96445461",
   "metadata": {},
   "outputs": [
    {
     "data": {
      "text/plain": [
       "{1, 2, 3, 4, 5, 7, 8}"
      ]
     },
     "execution_count": 19,
     "metadata": {},
     "output_type": "execute_result"
    }
   ],
   "source": [
    "t1"
   ]
  },
  {
   "cell_type": "code",
   "execution_count": 20,
   "id": "253561c8",
   "metadata": {},
   "outputs": [
    {
     "data": {
      "text/plain": [
       "3"
      ]
     },
     "execution_count": 20,
     "metadata": {},
     "output_type": "execute_result"
    }
   ],
   "source": [
    "t[2]"
   ]
  },
  {
   "cell_type": "code",
   "execution_count": 21,
   "id": "a27367cc",
   "metadata": {},
   "outputs": [
    {
     "data": {
      "text/plain": [
       "4"
      ]
     },
     "execution_count": 21,
     "metadata": {},
     "output_type": "execute_result"
    }
   ],
   "source": [
    "t[-3]"
   ]
  },
  {
   "cell_type": "code",
   "execution_count": 22,
   "id": "0e93768a",
   "metadata": {},
   "outputs": [
    {
     "ename": "TypeError",
     "evalue": "'set' object is not subscriptable",
     "output_type": "error",
     "traceback": [
      "\u001b[1;31m---------------------------------------------------------------------------\u001b[0m",
      "\u001b[1;31mTypeError\u001b[0m                                 Traceback (most recent call last)",
      "\u001b[1;32m~\\AppData\\Local\\Temp\\ipykernel_1936\\3265100610.py\u001b[0m in \u001b[0;36m<module>\u001b[1;34m\u001b[0m\n\u001b[1;32m----> 1\u001b[1;33m \u001b[0mt1\u001b[0m\u001b[1;33m[\u001b[0m\u001b[1;36m0\u001b[0m\u001b[1;33m]\u001b[0m\u001b[1;33m\u001b[0m\u001b[1;33m\u001b[0m\u001b[0m\n\u001b[0m",
      "\u001b[1;31mTypeError\u001b[0m: 'set' object is not subscriptable"
     ]
    }
   ],
   "source": [
    "t1[0]"
   ]
  },
  {
   "cell_type": "code",
   "execution_count": 23,
   "id": "b42ad87c",
   "metadata": {},
   "outputs": [
    {
     "ename": "TypeError",
     "evalue": "'set' object is not subscriptable",
     "output_type": "error",
     "traceback": [
      "\u001b[1;31m---------------------------------------------------------------------------\u001b[0m",
      "\u001b[1;31mTypeError\u001b[0m                                 Traceback (most recent call last)",
      "\u001b[1;32m~\\AppData\\Local\\Temp\\ipykernel_1936\\1246493782.py\u001b[0m in \u001b[0;36m<module>\u001b[1;34m\u001b[0m\n\u001b[1;32m----> 1\u001b[1;33m \u001b[0mt1\u001b[0m\u001b[1;33m[\u001b[0m\u001b[1;36m3\u001b[0m\u001b[1;33m]\u001b[0m\u001b[1;33m\u001b[0m\u001b[1;33m\u001b[0m\u001b[0m\n\u001b[0m",
      "\u001b[1;31mTypeError\u001b[0m: 'set' object is not subscriptable"
     ]
    }
   ],
   "source": [
    "t1[3]"
   ]
  },
  {
   "cell_type": "code",
   "execution_count": 24,
   "id": "75d8fad6",
   "metadata": {},
   "outputs": [
    {
     "data": {
      "text/plain": [
       "(3, 4, 5, 6)"
      ]
     },
     "execution_count": 24,
     "metadata": {},
     "output_type": "execute_result"
    }
   ],
   "source": [
    "t[2:]"
   ]
  },
  {
   "cell_type": "code",
   "execution_count": 25,
   "id": "e8600949",
   "metadata": {},
   "outputs": [
    {
     "data": {
      "text/plain": [
       "4"
      ]
     },
     "execution_count": 25,
     "metadata": {},
     "output_type": "execute_result"
    }
   ],
   "source": [
    "t[-3]"
   ]
  },
  {
   "cell_type": "code",
   "execution_count": 26,
   "id": "49c8dc45",
   "metadata": {},
   "outputs": [
    {
     "data": {
      "text/plain": [
       "(1, 2, 3)"
      ]
     },
     "execution_count": 26,
     "metadata": {},
     "output_type": "execute_result"
    }
   ],
   "source": [
    "t[:3]"
   ]
  },
  {
   "cell_type": "code",
   "execution_count": 27,
   "id": "3a708414",
   "metadata": {},
   "outputs": [
    {
     "data": {
      "text/plain": [
       "(2, 3, 4)"
      ]
     },
     "execution_count": 27,
     "metadata": {},
     "output_type": "execute_result"
    }
   ],
   "source": [
    "t[1:4]"
   ]
  },
  {
   "cell_type": "code",
   "execution_count": 28,
   "id": "21b50d20",
   "metadata": {},
   "outputs": [
    {
     "data": {
      "text/plain": [
       "(1, 2, 3, 4, 5)"
      ]
     },
     "execution_count": 28,
     "metadata": {},
     "output_type": "execute_result"
    }
   ],
   "source": [
    "t[0:5]"
   ]
  },
  {
   "cell_type": "code",
   "execution_count": 29,
   "id": "448acedb",
   "metadata": {},
   "outputs": [
    {
     "ename": "TypeError",
     "evalue": "'tuple' object does not support item assignment",
     "output_type": "error",
     "traceback": [
      "\u001b[1;31m---------------------------------------------------------------------------\u001b[0m",
      "\u001b[1;31mTypeError\u001b[0m                                 Traceback (most recent call last)",
      "\u001b[1;32m~\\AppData\\Local\\Temp\\ipykernel_1936\\4126925893.py\u001b[0m in \u001b[0;36m<module>\u001b[1;34m\u001b[0m\n\u001b[1;32m----> 1\u001b[1;33m \u001b[0mt\u001b[0m\u001b[1;33m[\u001b[0m\u001b[1;36m2\u001b[0m\u001b[1;33m]\u001b[0m\u001b[1;33m=\u001b[0m\u001b[1;36m3\u001b[0m\u001b[1;33m\u001b[0m\u001b[1;33m\u001b[0m\u001b[0m\n\u001b[0m",
      "\u001b[1;31mTypeError\u001b[0m: 'tuple' object does not support item assignment"
     ]
    }
   ],
   "source": [
    "t[2]=3"
   ]
  },
  {
   "cell_type": "code",
   "execution_count": 30,
   "id": "00d622b9",
   "metadata": {},
   "outputs": [],
   "source": [
    "t2=(2,4,6,3,5,10,8,9,7)"
   ]
  },
  {
   "cell_type": "code",
   "execution_count": 31,
   "id": "63ac493d",
   "metadata": {},
   "outputs": [
    {
     "name": "stdout",
     "output_type": "stream",
     "text": [
      "(2, 4, 6, 3, 5, 10, 8, 9, 7)\n"
     ]
    }
   ],
   "source": [
    "print(t2)"
   ]
  },
  {
   "cell_type": "code",
   "execution_count": 32,
   "id": "1485fdd0",
   "metadata": {},
   "outputs": [
    {
     "ename": "TypeError",
     "evalue": "tuple.count() takes exactly one argument (0 given)",
     "output_type": "error",
     "traceback": [
      "\u001b[1;31m---------------------------------------------------------------------------\u001b[0m",
      "\u001b[1;31mTypeError\u001b[0m                                 Traceback (most recent call last)",
      "\u001b[1;32m~\\AppData\\Local\\Temp\\ipykernel_1936\\2917277145.py\u001b[0m in \u001b[0;36m<module>\u001b[1;34m\u001b[0m\n\u001b[1;32m----> 1\u001b[1;33m \u001b[0mt2\u001b[0m\u001b[1;33m.\u001b[0m\u001b[0mcount\u001b[0m\u001b[1;33m(\u001b[0m\u001b[1;33m)\u001b[0m\u001b[1;33m\u001b[0m\u001b[1;33m\u001b[0m\u001b[0m\n\u001b[0m",
      "\u001b[1;31mTypeError\u001b[0m: tuple.count() takes exactly one argument (0 given)"
     ]
    }
   ],
   "source": [
    "t2.count()"
   ]
  },
  {
   "cell_type": "code",
   "execution_count": 33,
   "id": "2f059937",
   "metadata": {},
   "outputs": [
    {
     "data": {
      "text/plain": [
       "1"
      ]
     },
     "execution_count": 33,
     "metadata": {},
     "output_type": "execute_result"
    }
   ],
   "source": [
    "t2.count(3)"
   ]
  },
  {
   "cell_type": "code",
   "execution_count": 34,
   "id": "d5639b42",
   "metadata": {},
   "outputs": [
    {
     "data": {
      "text/plain": [
       "3"
      ]
     },
     "execution_count": 34,
     "metadata": {},
     "output_type": "execute_result"
    }
   ],
   "source": [
    "t2.index(3)"
   ]
  },
  {
   "cell_type": "code",
   "execution_count": 35,
   "id": "11904f3a",
   "metadata": {},
   "outputs": [],
   "source": [
    "s={1,2,3,4,5,6}"
   ]
  },
  {
   "cell_type": "code",
   "execution_count": 36,
   "id": "38bc1ab9",
   "metadata": {},
   "outputs": [
    {
     "data": {
      "text/plain": [
       "set"
      ]
     },
     "execution_count": 36,
     "metadata": {},
     "output_type": "execute_result"
    }
   ],
   "source": [
    "type(s)"
   ]
  },
  {
   "cell_type": "code",
   "execution_count": 37,
   "id": "f912acd5",
   "metadata": {},
   "outputs": [
    {
     "name": "stdout",
     "output_type": "stream",
     "text": [
      "{1, 2, 3, 4, 5, 6}\n"
     ]
    }
   ],
   "source": [
    "print(s)"
   ]
  },
  {
   "cell_type": "code",
   "execution_count": 38,
   "id": "0f36f3b9",
   "metadata": {},
   "outputs": [
    {
     "ename": "TypeError",
     "evalue": "'set' object is not subscriptable",
     "output_type": "error",
     "traceback": [
      "\u001b[1;31m---------------------------------------------------------------------------\u001b[0m",
      "\u001b[1;31mTypeError\u001b[0m                                 Traceback (most recent call last)",
      "\u001b[1;32m~\\AppData\\Local\\Temp\\ipykernel_1936\\2635755408.py\u001b[0m in \u001b[0;36m<module>\u001b[1;34m\u001b[0m\n\u001b[1;32m----> 1\u001b[1;33m \u001b[0ms\u001b[0m\u001b[1;33m[\u001b[0m\u001b[1;36m2\u001b[0m\u001b[1;33m]\u001b[0m\u001b[1;33m\u001b[0m\u001b[1;33m\u001b[0m\u001b[0m\n\u001b[0m",
      "\u001b[1;31mTypeError\u001b[0m: 'set' object is not subscriptable"
     ]
    }
   ],
   "source": [
    "s[2]"
   ]
  },
  {
   "cell_type": "code",
   "execution_count": 39,
   "id": "ac77613b",
   "metadata": {},
   "outputs": [
    {
     "ename": "TypeError",
     "evalue": "'set' object does not support item assignment",
     "output_type": "error",
     "traceback": [
      "\u001b[1;31m---------------------------------------------------------------------------\u001b[0m",
      "\u001b[1;31mTypeError\u001b[0m                                 Traceback (most recent call last)",
      "\u001b[1;32m~\\AppData\\Local\\Temp\\ipykernel_1936\\73148412.py\u001b[0m in \u001b[0;36m<module>\u001b[1;34m\u001b[0m\n\u001b[1;32m----> 1\u001b[1;33m \u001b[0ms\u001b[0m\u001b[1;33m[\u001b[0m\u001b[1;36m2\u001b[0m\u001b[1;33m]\u001b[0m\u001b[1;33m=\u001b[0m\u001b[1;36m3\u001b[0m\u001b[1;33m\u001b[0m\u001b[1;33m\u001b[0m\u001b[0m\n\u001b[0m",
      "\u001b[1;31mTypeError\u001b[0m: 'set' object does not support item assignment"
     ]
    }
   ],
   "source": [
    "s[2]=3"
   ]
  },
  {
   "cell_type": "code",
   "execution_count": 40,
   "id": "62db765e",
   "metadata": {},
   "outputs": [],
   "source": [
    "s.add(7)"
   ]
  },
  {
   "cell_type": "code",
   "execution_count": 41,
   "id": "b88abfd4",
   "metadata": {},
   "outputs": [
    {
     "name": "stdout",
     "output_type": "stream",
     "text": [
      "{1, 2, 3, 4, 5, 6, 7}\n"
     ]
    }
   ],
   "source": [
    "print(s)"
   ]
  },
  {
   "cell_type": "code",
   "execution_count": 42,
   "id": "aea71571",
   "metadata": {},
   "outputs": [],
   "source": [
    "s.remove(7)"
   ]
  },
  {
   "cell_type": "code",
   "execution_count": 43,
   "id": "ba6d7877",
   "metadata": {},
   "outputs": [
    {
     "name": "stdout",
     "output_type": "stream",
     "text": [
      "{1, 2, 3, 4, 5, 6}\n"
     ]
    }
   ],
   "source": [
    "print(s)"
   ]
  },
  {
   "cell_type": "code",
   "execution_count": 44,
   "id": "41e279a3",
   "metadata": {},
   "outputs": [
    {
     "ename": "TypeError",
     "evalue": "set.pop() takes no arguments (1 given)",
     "output_type": "error",
     "traceback": [
      "\u001b[1;31m---------------------------------------------------------------------------\u001b[0m",
      "\u001b[1;31mTypeError\u001b[0m                                 Traceback (most recent call last)",
      "\u001b[1;32m~\\AppData\\Local\\Temp\\ipykernel_1936\\1677479381.py\u001b[0m in \u001b[0;36m<module>\u001b[1;34m\u001b[0m\n\u001b[1;32m----> 1\u001b[1;33m \u001b[0ms\u001b[0m\u001b[1;33m.\u001b[0m\u001b[0mpop\u001b[0m\u001b[1;33m(\u001b[0m\u001b[1;36m6\u001b[0m\u001b[1;33m)\u001b[0m\u001b[1;33m\u001b[0m\u001b[1;33m\u001b[0m\u001b[0m\n\u001b[0m",
      "\u001b[1;31mTypeError\u001b[0m: set.pop() takes no arguments (1 given)"
     ]
    }
   ],
   "source": [
    "s.pop(6)"
   ]
  },
  {
   "cell_type": "code",
   "execution_count": 45,
   "id": "91cd6c73",
   "metadata": {},
   "outputs": [
    {
     "data": {
      "text/plain": [
       "1"
      ]
     },
     "execution_count": 45,
     "metadata": {},
     "output_type": "execute_result"
    }
   ],
   "source": [
    "s.pop()"
   ]
  },
  {
   "cell_type": "code",
   "execution_count": 46,
   "id": "b39e401a",
   "metadata": {},
   "outputs": [
    {
     "name": "stdout",
     "output_type": "stream",
     "text": [
      "{2, 3, 4, 5, 6}\n"
     ]
    }
   ],
   "source": [
    "print(s)"
   ]
  },
  {
   "cell_type": "code",
   "execution_count": 47,
   "id": "68f4710e",
   "metadata": {},
   "outputs": [],
   "source": [
    "s1={4,2,3,1,8,6,7}"
   ]
  },
  {
   "cell_type": "code",
   "execution_count": 48,
   "id": "a314d4f2",
   "metadata": {},
   "outputs": [],
   "source": [
    "s1.clear()"
   ]
  },
  {
   "cell_type": "code",
   "execution_count": 49,
   "id": "71e6b95a",
   "metadata": {},
   "outputs": [
    {
     "data": {
      "text/plain": [
       "set()"
      ]
     },
     "execution_count": 49,
     "metadata": {},
     "output_type": "execute_result"
    }
   ],
   "source": [
    "s1"
   ]
  },
  {
   "cell_type": "code",
   "execution_count": 50,
   "id": "6b2b5910",
   "metadata": {},
   "outputs": [],
   "source": [
    "d={1:'alphabet', 2:'book', 3:'cherrie'}"
   ]
  },
  {
   "cell_type": "code",
   "execution_count": 51,
   "id": "d9e553ff",
   "metadata": {},
   "outputs": [
    {
     "data": {
      "text/plain": [
       "dict"
      ]
     },
     "execution_count": 51,
     "metadata": {},
     "output_type": "execute_result"
    }
   ],
   "source": [
    "type(d)"
   ]
  },
  {
   "cell_type": "code",
   "execution_count": 52,
   "id": "39a3fa09",
   "metadata": {},
   "outputs": [
    {
     "data": {
      "text/plain": [
       "'book'"
      ]
     },
     "execution_count": 52,
     "metadata": {},
     "output_type": "execute_result"
    }
   ],
   "source": [
    "d[2]"
   ]
  },
  {
   "cell_type": "code",
   "execution_count": 53,
   "id": "e3b61b88",
   "metadata": {},
   "outputs": [
    {
     "ename": "TypeError",
     "evalue": "'builtin_function_or_method' object is not subscriptable",
     "output_type": "error",
     "traceback": [
      "\u001b[1;31m---------------------------------------------------------------------------\u001b[0m",
      "\u001b[1;31mTypeError\u001b[0m                                 Traceback (most recent call last)",
      "\u001b[1;32m~\\AppData\\Local\\Temp\\ipykernel_1936\\2386526442.py\u001b[0m in \u001b[0;36m<module>\u001b[1;34m\u001b[0m\n\u001b[1;32m----> 1\u001b[1;33m \u001b[0md\u001b[0m\u001b[1;33m.\u001b[0m\u001b[0mkeys\u001b[0m\u001b[1;33m[\u001b[0m\u001b[1;36m1\u001b[0m\u001b[1;33m]\u001b[0m\u001b[1;33m\u001b[0m\u001b[1;33m\u001b[0m\u001b[0m\n\u001b[0m",
      "\u001b[1;31mTypeError\u001b[0m: 'builtin_function_or_method' object is not subscriptable"
     ]
    }
   ],
   "source": [
    "d.keys[1]"
   ]
  },
  {
   "cell_type": "code",
   "execution_count": 54,
   "id": "554c0a30",
   "metadata": {},
   "outputs": [
    {
     "ename": "TypeError",
     "evalue": "dict.keys() takes no arguments (1 given)",
     "output_type": "error",
     "traceback": [
      "\u001b[1;31m---------------------------------------------------------------------------\u001b[0m",
      "\u001b[1;31mTypeError\u001b[0m                                 Traceback (most recent call last)",
      "\u001b[1;32m~\\AppData\\Local\\Temp\\ipykernel_1936\\1415306752.py\u001b[0m in \u001b[0;36m<module>\u001b[1;34m\u001b[0m\n\u001b[1;32m----> 1\u001b[1;33m \u001b[0md\u001b[0m\u001b[1;33m.\u001b[0m\u001b[0mkeys\u001b[0m\u001b[1;33m(\u001b[0m\u001b[1;36m1\u001b[0m\u001b[1;33m)\u001b[0m\u001b[1;33m\u001b[0m\u001b[1;33m\u001b[0m\u001b[0m\n\u001b[0m",
      "\u001b[1;31mTypeError\u001b[0m: dict.keys() takes no arguments (1 given)"
     ]
    }
   ],
   "source": [
    "d.keys(1)"
   ]
  },
  {
   "cell_type": "code",
   "execution_count": 55,
   "id": "d60913f6",
   "metadata": {},
   "outputs": [
    {
     "data": {
      "text/plain": [
       "dict_keys([1, 2, 3])"
      ]
     },
     "execution_count": 55,
     "metadata": {},
     "output_type": "execute_result"
    }
   ],
   "source": [
    "d.keys()"
   ]
  },
  {
   "cell_type": "code",
   "execution_count": 56,
   "id": "85fc2bf7",
   "metadata": {},
   "outputs": [
    {
     "data": {
      "text/plain": [
       "dict_items([(1, 'alphabet'), (2, 'book'), (3, 'cherrie')])"
      ]
     },
     "execution_count": 56,
     "metadata": {},
     "output_type": "execute_result"
    }
   ],
   "source": [
    "d.items()"
   ]
  },
  {
   "cell_type": "code",
   "execution_count": 57,
   "id": "d6dec0c9",
   "metadata": {},
   "outputs": [
    {
     "data": {
      "text/plain": [
       "dict_values(['alphabet', 'book', 'cherrie'])"
      ]
     },
     "execution_count": 57,
     "metadata": {},
     "output_type": "execute_result"
    }
   ],
   "source": [
    "d.values()"
   ]
  },
  {
   "cell_type": "code",
   "execution_count": 58,
   "id": "d7fda350",
   "metadata": {},
   "outputs": [
    {
     "ename": "TypeError",
     "evalue": "'dict' object is not callable",
     "output_type": "error",
     "traceback": [
      "\u001b[1;31m---------------------------------------------------------------------------\u001b[0m",
      "\u001b[1;31mTypeError\u001b[0m                                 Traceback (most recent call last)",
      "\u001b[1;32m~\\AppData\\Local\\Temp\\ipykernel_1936\\3846803945.py\u001b[0m in \u001b[0;36m<module>\u001b[1;34m\u001b[0m\n\u001b[1;32m----> 1\u001b[1;33m \u001b[0md\u001b[0m\u001b[1;33m(\u001b[0m\u001b[1;36m1\u001b[0m\u001b[1;33m)\u001b[0m\u001b[1;33m\u001b[0m\u001b[1;33m\u001b[0m\u001b[0m\n\u001b[0m",
      "\u001b[1;31mTypeError\u001b[0m: 'dict' object is not callable"
     ]
    }
   ],
   "source": [
    "d(1)"
   ]
  },
  {
   "cell_type": "code",
   "execution_count": 59,
   "id": "26970275",
   "metadata": {},
   "outputs": [
    {
     "data": {
      "text/plain": [
       "'alphabet'"
      ]
     },
     "execution_count": 59,
     "metadata": {},
     "output_type": "execute_result"
    }
   ],
   "source": [
    "d[1]"
   ]
  },
  {
   "cell_type": "code",
   "execution_count": 60,
   "id": "2cb2a599",
   "metadata": {},
   "outputs": [],
   "source": [
    "d[1]='apple'"
   ]
  },
  {
   "cell_type": "code",
   "execution_count": 61,
   "id": "6c2cfbc4",
   "metadata": {},
   "outputs": [
    {
     "data": {
      "text/plain": [
       "{1: 'apple', 2: 'book', 3: 'cherrie'}"
      ]
     },
     "execution_count": 61,
     "metadata": {},
     "output_type": "execute_result"
    }
   ],
   "source": [
    "d"
   ]
  },
  {
   "cell_type": "code",
   "execution_count": 62,
   "id": "714e8d25",
   "metadata": {},
   "outputs": [],
   "source": [
    "d[2]='bread'"
   ]
  },
  {
   "cell_type": "code",
   "execution_count": 63,
   "id": "c8a1d221",
   "metadata": {},
   "outputs": [],
   "source": [
    "d[3]='club'"
   ]
  },
  {
   "cell_type": "code",
   "execution_count": 64,
   "id": "d364ed4c",
   "metadata": {},
   "outputs": [
    {
     "data": {
      "text/plain": [
       "{1: 'apple', 2: 'bread', 3: 'club'}"
      ]
     },
     "execution_count": 64,
     "metadata": {},
     "output_type": "execute_result"
    }
   ],
   "source": [
    "d"
   ]
  },
  {
   "cell_type": "code",
   "execution_count": 65,
   "id": "658c9f78",
   "metadata": {},
   "outputs": [
    {
     "ename": "TypeError",
     "evalue": "pop expected at least 1 argument, got 0",
     "output_type": "error",
     "traceback": [
      "\u001b[1;31m---------------------------------------------------------------------------\u001b[0m",
      "\u001b[1;31mTypeError\u001b[0m                                 Traceback (most recent call last)",
      "\u001b[1;32m~\\AppData\\Local\\Temp\\ipykernel_1936\\1274378990.py\u001b[0m in \u001b[0;36m<module>\u001b[1;34m\u001b[0m\n\u001b[1;32m----> 1\u001b[1;33m \u001b[0md\u001b[0m\u001b[1;33m.\u001b[0m\u001b[0mpop\u001b[0m\u001b[1;33m(\u001b[0m\u001b[1;33m)\u001b[0m\u001b[1;33m\u001b[0m\u001b[1;33m\u001b[0m\u001b[0m\n\u001b[0m",
      "\u001b[1;31mTypeError\u001b[0m: pop expected at least 1 argument, got 0"
     ]
    }
   ],
   "source": [
    "d.pop()"
   ]
  },
  {
   "cell_type": "code",
   "execution_count": 66,
   "id": "1cb76a39",
   "metadata": {},
   "outputs": [
    {
     "data": {
      "text/plain": [
       "'bread'"
      ]
     },
     "execution_count": 66,
     "metadata": {},
     "output_type": "execute_result"
    }
   ],
   "source": [
    "d.pop(2)"
   ]
  },
  {
   "cell_type": "code",
   "execution_count": 67,
   "id": "e646ebcd",
   "metadata": {},
   "outputs": [
    {
     "data": {
      "text/plain": [
       "{1: 'apple', 3: 'club'}"
      ]
     },
     "execution_count": 67,
     "metadata": {},
     "output_type": "execute_result"
    }
   ],
   "source": [
    "d"
   ]
  },
  {
   "cell_type": "code",
   "execution_count": 68,
   "id": "93a04f35",
   "metadata": {},
   "outputs": [],
   "source": [
    "d[2]='banana'"
   ]
  },
  {
   "cell_type": "code",
   "execution_count": 69,
   "id": "887c5972",
   "metadata": {},
   "outputs": [
    {
     "data": {
      "text/plain": [
       "{1: 'apple', 3: 'club', 2: 'banana'}"
      ]
     },
     "execution_count": 69,
     "metadata": {},
     "output_type": "execute_result"
    }
   ],
   "source": [
    "d"
   ]
  },
  {
   "cell_type": "code",
   "execution_count": 70,
   "id": "3946d09a",
   "metadata": {},
   "outputs": [],
   "source": [
    "d[3]=2"
   ]
  },
  {
   "cell_type": "code",
   "execution_count": 71,
   "id": "b1e46467",
   "metadata": {},
   "outputs": [
    {
     "data": {
      "text/plain": [
       "{1: 'apple', 3: 2, 2: 'banana'}"
      ]
     },
     "execution_count": 71,
     "metadata": {},
     "output_type": "execute_result"
    }
   ],
   "source": [
    "d"
   ]
  },
  {
   "cell_type": "code",
   "execution_count": 72,
   "id": "99d273c7",
   "metadata": {},
   "outputs": [],
   "source": [
    "d[3]='cherrie'"
   ]
  },
  {
   "cell_type": "code",
   "execution_count": 73,
   "id": "5ff91222",
   "metadata": {},
   "outputs": [
    {
     "data": {
      "text/plain": [
       "{1: 'apple', 3: 'cherrie', 2: 'banana'}"
      ]
     },
     "execution_count": 73,
     "metadata": {},
     "output_type": "execute_result"
    }
   ],
   "source": [
    "d"
   ]
  },
  {
   "cell_type": "code",
   "execution_count": 74,
   "id": "e5f942f9",
   "metadata": {},
   "outputs": [
    {
     "ename": "TypeError",
     "evalue": "'builtin_function_or_method' object is not subscriptable",
     "output_type": "error",
     "traceback": [
      "\u001b[1;31m---------------------------------------------------------------------------\u001b[0m",
      "\u001b[1;31mTypeError\u001b[0m                                 Traceback (most recent call last)",
      "\u001b[1;32m~\\AppData\\Local\\Temp\\ipykernel_1936\\1654404.py\u001b[0m in \u001b[0;36m<module>\u001b[1;34m\u001b[0m\n\u001b[1;32m----> 1\u001b[1;33m \u001b[0md\u001b[0m\u001b[1;33m[\u001b[0m\u001b[1;36m2\u001b[0m\u001b[1;33m]\u001b[0m\u001b[1;33m=\u001b[0m\u001b[0md\u001b[0m\u001b[1;33m.\u001b[0m\u001b[0mpop\u001b[0m\u001b[1;33m[\u001b[0m\u001b[1;36m3\u001b[0m\u001b[1;33m]\u001b[0m\u001b[1;33m\u001b[0m\u001b[1;33m\u001b[0m\u001b[0m\n\u001b[0m",
      "\u001b[1;31mTypeError\u001b[0m: 'builtin_function_or_method' object is not subscriptable"
     ]
    }
   ],
   "source": [
    "d[2]=d.pop[3]"
   ]
  },
  {
   "cell_type": "code",
   "execution_count": 75,
   "id": "52c9ad25",
   "metadata": {},
   "outputs": [],
   "source": [
    "d[2]=d.pop(3)"
   ]
  },
  {
   "cell_type": "code",
   "execution_count": 76,
   "id": "db38e904",
   "metadata": {},
   "outputs": [
    {
     "data": {
      "text/plain": [
       "{1: 'apple', 2: 'cherrie'}"
      ]
     },
     "execution_count": 76,
     "metadata": {},
     "output_type": "execute_result"
    }
   ],
   "source": [
    "d"
   ]
  },
  {
   "cell_type": "code",
   "execution_count": 77,
   "id": "d8714f54",
   "metadata": {},
   "outputs": [],
   "source": [
    "d.update({3:'banana'})"
   ]
  },
  {
   "cell_type": "code",
   "execution_count": 78,
   "id": "86206802",
   "metadata": {},
   "outputs": [
    {
     "data": {
      "text/plain": [
       "{1: 'apple', 2: 'cherrie', 3: 'banana'}"
      ]
     },
     "execution_count": 78,
     "metadata": {},
     "output_type": "execute_result"
    }
   ],
   "source": [
    "d"
   ]
  },
  {
   "cell_type": "code",
   "execution_count": 79,
   "id": "fb511bd0",
   "metadata": {},
   "outputs": [
    {
     "data": {
      "text/plain": [
       "'cherrie'"
      ]
     },
     "execution_count": 79,
     "metadata": {},
     "output_type": "execute_result"
    }
   ],
   "source": [
    "d.pop(2)"
   ]
  },
  {
   "cell_type": "code",
   "execution_count": 80,
   "id": "b840b9f2",
   "metadata": {},
   "outputs": [
    {
     "data": {
      "text/plain": [
       "{1: 'apple', 3: 'banana'}"
      ]
     },
     "execution_count": 80,
     "metadata": {},
     "output_type": "execute_result"
    }
   ],
   "source": [
    "d"
   ]
  },
  {
   "cell_type": "code",
   "execution_count": 81,
   "id": "a6f2378a",
   "metadata": {},
   "outputs": [],
   "source": [
    "d.update({4:'fire'})"
   ]
  },
  {
   "cell_type": "code",
   "execution_count": 82,
   "id": "2b0875a3",
   "metadata": {},
   "outputs": [
    {
     "data": {
      "text/plain": [
       "{1: 'apple', 3: 'banana', 4: 'fire'}"
      ]
     },
     "execution_count": 82,
     "metadata": {},
     "output_type": "execute_result"
    }
   ],
   "source": [
    "d"
   ]
  },
  {
   "cell_type": "code",
   "execution_count": 83,
   "id": "98a2d2e2",
   "metadata": {},
   "outputs": [
    {
     "name": "stdout",
     "output_type": "stream",
     "text": [
      "[1, 3, 4]\n"
     ]
    }
   ],
   "source": [
    "print(sorted(d))"
   ]
  },
  {
   "cell_type": "code",
   "execution_count": 84,
   "id": "c3aa8e7a",
   "metadata": {},
   "outputs": [
    {
     "ename": "TypeError",
     "evalue": "'builtin_function_or_method' object is not iterable",
     "output_type": "error",
     "traceback": [
      "\u001b[1;31m---------------------------------------------------------------------------\u001b[0m",
      "\u001b[1;31mTypeError\u001b[0m                                 Traceback (most recent call last)",
      "\u001b[1;32m~\\AppData\\Local\\Temp\\ipykernel_1936\\1239325285.py\u001b[0m in \u001b[0;36m<module>\u001b[1;34m\u001b[0m\n\u001b[1;32m----> 1\u001b[1;33m \u001b[0mprint\u001b[0m\u001b[1;33m(\u001b[0m\u001b[0msorted\u001b[0m\u001b[1;33m(\u001b[0m\u001b[0md\u001b[0m\u001b[1;33m.\u001b[0m\u001b[0mitems\u001b[0m\u001b[1;33m)\u001b[0m\u001b[1;33m)\u001b[0m\u001b[1;33m\u001b[0m\u001b[1;33m\u001b[0m\u001b[0m\n\u001b[0m",
      "\u001b[1;31mTypeError\u001b[0m: 'builtin_function_or_method' object is not iterable"
     ]
    }
   ],
   "source": [
    "print(sorted(d.items))"
   ]
  },
  {
   "cell_type": "code",
   "execution_count": 85,
   "id": "d5de324c",
   "metadata": {},
   "outputs": [
    {
     "name": "stdout",
     "output_type": "stream",
     "text": [
      "[(1, 'apple'), (3, 'banana'), (4, 'fire')]\n"
     ]
    }
   ],
   "source": [
    "print(sorted(d.items()))"
   ]
  },
  {
   "cell_type": "code",
   "execution_count": 1,
   "id": "eba97535",
   "metadata": {},
   "outputs": [
    {
     "data": {
      "text/plain": [
       "True"
      ]
     },
     "execution_count": 1,
     "metadata": {},
     "output_type": "execute_result"
    }
   ],
   "source": [
    "2==2"
   ]
  },
  {
   "cell_type": "code",
   "execution_count": 2,
   "id": "12e23731",
   "metadata": {},
   "outputs": [
    {
     "data": {
      "text/plain": [
       "False"
      ]
     },
     "execution_count": 2,
     "metadata": {},
     "output_type": "execute_result"
    }
   ],
   "source": [
    "2==3"
   ]
  },
  {
   "cell_type": "code",
   "execution_count": 3,
   "id": "e1faef59",
   "metadata": {},
   "outputs": [
    {
     "data": {
      "text/plain": [
       "False"
      ]
     },
     "execution_count": 3,
     "metadata": {},
     "output_type": "execute_result"
    }
   ],
   "source": [
    "'hello' == 'bye'"
   ]
  },
  {
   "cell_type": "code",
   "execution_count": 4,
   "id": "b9108cbf",
   "metadata": {},
   "outputs": [
    {
     "data": {
      "text/plain": [
       "False"
      ]
     },
     "execution_count": 4,
     "metadata": {},
     "output_type": "execute_result"
    }
   ],
   "source": [
    "'hello' == 'Hello'"
   ]
  },
  {
   "cell_type": "code",
   "execution_count": 5,
   "id": "f2bac3d8",
   "metadata": {},
   "outputs": [
    {
     "data": {
      "text/plain": [
       "True"
      ]
     },
     "execution_count": 5,
     "metadata": {},
     "output_type": "execute_result"
    }
   ],
   "source": [
    "2.0 == 2"
   ]
  },
  {
   "cell_type": "code",
   "execution_count": 6,
   "id": "f3363cd3",
   "metadata": {},
   "outputs": [
    {
     "data": {
      "text/plain": [
       "False"
      ]
     },
     "execution_count": 6,
     "metadata": {},
     "output_type": "execute_result"
    }
   ],
   "source": [
    "3.1 == 3"
   ]
  },
  {
   "cell_type": "code",
   "execution_count": 7,
   "id": "4afb69a6",
   "metadata": {},
   "outputs": [
    {
     "data": {
      "text/plain": [
       "False"
      ]
     },
     "execution_count": 7,
     "metadata": {},
     "output_type": "execute_result"
    }
   ],
   "source": [
    "3 != 3"
   ]
  },
  {
   "cell_type": "code",
   "execution_count": 8,
   "id": "5c66d9f6",
   "metadata": {},
   "outputs": [
    {
     "data": {
      "text/plain": [
       "True"
      ]
     },
     "execution_count": 8,
     "metadata": {},
     "output_type": "execute_result"
    }
   ],
   "source": [
    "2 != 4"
   ]
  },
  {
   "cell_type": "code",
   "execution_count": 9,
   "id": "2a4564d6",
   "metadata": {},
   "outputs": [
    {
     "data": {
      "text/plain": [
       "True"
      ]
     },
     "execution_count": 9,
     "metadata": {},
     "output_type": "execute_result"
    }
   ],
   "source": [
    "2>1"
   ]
  },
  {
   "cell_type": "code",
   "execution_count": 10,
   "id": "cdb4dcc3",
   "metadata": {},
   "outputs": [
    {
     "data": {
      "text/plain": [
       "True"
      ]
     },
     "execution_count": 10,
     "metadata": {},
     "output_type": "execute_result"
    }
   ],
   "source": [
    "4>2"
   ]
  },
  {
   "cell_type": "code",
   "execution_count": 11,
   "id": "40374ab1",
   "metadata": {},
   "outputs": [
    {
     "data": {
      "text/plain": [
       "False"
      ]
     },
     "execution_count": 11,
     "metadata": {},
     "output_type": "execute_result"
    }
   ],
   "source": [
    "5>8"
   ]
  },
  {
   "cell_type": "code",
   "execution_count": 12,
   "id": "cf3a1502",
   "metadata": {},
   "outputs": [
    {
     "data": {
      "text/plain": [
       "True"
      ]
     },
     "execution_count": 12,
     "metadata": {},
     "output_type": "execute_result"
    }
   ],
   "source": [
    "5<8"
   ]
  },
  {
   "cell_type": "code",
   "execution_count": 13,
   "id": "15f85888",
   "metadata": {},
   "outputs": [
    {
     "data": {
      "text/plain": [
       "True"
      ]
     },
     "execution_count": 13,
     "metadata": {},
     "output_type": "execute_result"
    }
   ],
   "source": [
    "1<2<3"
   ]
  },
  {
   "cell_type": "code",
   "execution_count": 14,
   "id": "c8d9d521",
   "metadata": {},
   "outputs": [
    {
     "data": {
      "text/plain": [
       "False"
      ]
     },
     "execution_count": 14,
     "metadata": {},
     "output_type": "execute_result"
    }
   ],
   "source": [
    "1<2>3"
   ]
  },
  {
   "cell_type": "code",
   "execution_count": 15,
   "id": "8c165b2f",
   "metadata": {},
   "outputs": [
    {
     "data": {
      "text/plain": [
       "False"
      ]
     },
     "execution_count": 15,
     "metadata": {},
     "output_type": "execute_result"
    }
   ],
   "source": [
    "1<2 and 2>3"
   ]
  },
  {
   "cell_type": "code",
   "execution_count": 16,
   "id": "28632a11",
   "metadata": {},
   "outputs": [
    {
     "data": {
      "text/plain": [
       "True"
      ]
     },
     "execution_count": 16,
     "metadata": {},
     "output_type": "execute_result"
    }
   ],
   "source": [
    "4>2 and 2<3"
   ]
  },
  {
   "cell_type": "code",
   "execution_count": 17,
   "id": "9a11fc64",
   "metadata": {},
   "outputs": [
    {
     "data": {
      "text/plain": [
       "True"
      ]
     },
     "execution_count": 17,
     "metadata": {},
     "output_type": "execute_result"
    }
   ],
   "source": [
    "1==1 or 2==2"
   ]
  },
  {
   "cell_type": "code",
   "execution_count": 18,
   "id": "d030f4fc",
   "metadata": {},
   "outputs": [
    {
     "data": {
      "text/plain": [
       "True"
      ]
     },
     "execution_count": 18,
     "metadata": {},
     "output_type": "execute_result"
    }
   ],
   "source": [
    "2>3 or 5<8"
   ]
  },
  {
   "cell_type": "code",
   "execution_count": 19,
   "id": "9cc5a7ea",
   "metadata": {},
   "outputs": [
    {
     "data": {
      "text/plain": [
       "True"
      ]
     },
     "execution_count": 19,
     "metadata": {},
     "output_type": "execute_result"
    }
   ],
   "source": [
    "not(2==3)"
   ]
  },
  {
   "cell_type": "code",
   "execution_count": 20,
   "id": "1847fd7f",
   "metadata": {},
   "outputs": [
    {
     "data": {
      "text/plain": [
       "False"
      ]
     },
     "execution_count": 20,
     "metadata": {},
     "output_type": "execute_result"
    }
   ],
   "source": [
    "not(4==4)"
   ]
  },
  {
   "cell_type": "code",
   "execution_count": 22,
   "id": "970707a0",
   "metadata": {},
   "outputs": [
    {
     "ename": "SyntaxError",
     "evalue": "invalid syntax (560895945.py, line 1)",
     "output_type": "error",
     "traceback": [
      "\u001b[1;36m  File \u001b[1;32m\"C:\\Users\\Varun kapadia\\AppData\\Local\\Temp\\ipykernel_9680\\560895945.py\"\u001b[1;36m, line \u001b[1;32m1\u001b[0m\n\u001b[1;33m    400 > 5000 not\u001b[0m\n\u001b[1;37m                  ^\u001b[0m\n\u001b[1;31mSyntaxError\u001b[0m\u001b[1;31m:\u001b[0m invalid syntax\n"
     ]
    }
   ],
   "source": [
    "400 > 5000 not"
   ]
  },
  {
   "cell_type": "code",
   "execution_count": 23,
   "id": "4f514d48",
   "metadata": {},
   "outputs": [
    {
     "data": {
      "text/plain": [
       "True"
      ]
     },
     "execution_count": 23,
     "metadata": {},
     "output_type": "execute_result"
    }
   ],
   "source": [
    "not 400>5000"
   ]
  },
  {
   "cell_type": "code",
   "execution_count": null,
   "id": "dd013f8a",
   "metadata": {},
   "outputs": [],
   "source": []
  }
 ],
 "metadata": {
  "kernelspec": {
   "display_name": "Python 3 (ipykernel)",
   "language": "python",
   "name": "python3"
  },
  "language_info": {
   "codemirror_mode": {
    "name": "ipython",
    "version": 3
   },
   "file_extension": ".py",
   "mimetype": "text/x-python",
   "name": "python",
   "nbconvert_exporter": "python",
   "pygments_lexer": "ipython3",
   "version": "3.9.13"
  }
 },
 "nbformat": 4,
 "nbformat_minor": 5
}
